{
    "metadata": {
        "kernelspec": {
            "name": "SQL",
            "display_name": "SQL",
            "language": "sql"
        },
        "language_info": {
            "name": "sql",
            "version": ""
        }
    },
    "nbformat_minor": 2,
    "nbformat": 4,
    "cells": [
        {
            "cell_type": "markdown",
            "source": [
                "## Input Arguments and Return Values"
            ],
            "metadata": {
                "azdata_cell_guid": "fe9613e9-7436-46e8-ab23-461ca7c8b120",
                "tags": [
                    "hide_input"
                ]
            }
        },
        {
            "cell_type": "markdown",
            "source": [
                "---\r\n",
                "### Multiple input arguments"
            ],
            "metadata": {
                "azdata_cell_guid": "fcc8f0f0-be42-47b5-b28b-c46e578419de",
                "tags": []
            }
        },
        {
            "cell_type": "code",
            "source": [
                "CREATE OR REPLACE FUNCTION my_pow(x DOUBLE PRECISION, y DOUBLE PRECISION)\r\n",
                "    RETURNS DOUBLE PRECISION\r\n",
                "AS $$\r\n",
                "    SELECT POWER(x, y);\r\n",
                "$$ LANGUAGE SQL;"
            ],
            "metadata": {
                "azdata_cell_guid": "ba410002-7635-4ac0-9b3e-76929f6db0aa",
                "tags": [
                    "hide_input"
                ],
                "language": "sql"
            },
            "outputs": [],
            "execution_count": 35
        },
        {
            "cell_type": "code",
            "source": [
                "SELECT my_pow(PI(), LOG(42));"
            ],
            "metadata": {
                "azdata_cell_guid": "1519395e-139d-4d3f-baa2-ece95a99ffc3",
                "tags": [
                    "hide_input"
                ],
                "language": "sql"
            },
            "outputs": [],
            "execution_count": 36
        },
        {
            "cell_type": "markdown",
            "source": [
                "---\r\n",
                "### Default values"
            ],
            "metadata": {
                "azdata_cell_guid": "3bd6c6b2-1062-4962-9b21-2c8618913a03",
                "tags": [
                    "hide_input"
                ]
            }
        },
        {
            "cell_type": "code",
            "source": [
                "CREATE OR REPLACE FUNCTION my_default(x INT = 42) \r\n",
                "    RETURNS INT\r\n",
                "AS $$\r\n",
                "    SELECT x;\r\n",
                "$$ LANGUAGE SQL;"
            ],
            "metadata": {
                "azdata_cell_guid": "7e4b38dc-1e1e-4752-bddb-13309805bd18",
                "tags": [
                    "hide_input"
                ],
                "language": "sql"
            },
            "outputs": [],
            "execution_count": 37
        },
        {
            "cell_type": "code",
            "source": [
                "SELECT \r\n",
                "    my_default(-42) AS \"Specify the argument\",\r\n",
                "    my_default()    AS \"Take the default\";"
            ],
            "metadata": {
                "azdata_cell_guid": "0e92e26c-05e6-4e7e-a22b-5ab7a4bd0217",
                "tags": [],
                "language": "sql"
            },
            "outputs": [],
            "execution_count": 38
        },
        {
            "cell_type": "markdown",
            "source": [
                "---\r\n",
                "### Using arrays for multiple input values"
            ],
            "metadata": {
                "azdata_cell_guid": "b210f8f6-1eb0-4f6e-bf14-a493c20090dd",
                "tags": [
                    "hide_input"
                ]
            }
        },
        {
            "cell_type": "code",
            "source": [
                "CREATE OR REPLACE FUNCTION array_sum(int_array INT[]) \r\n",
                "    RETURNS BIGINT\r\n",
                "AS $$\r\n",
                "    SELECT SUM(el)\r\n",
                "    FROM UNNEST(int_array) AS arr(el);\r\n",
                "$$ LANGUAGE SQL;"
            ],
            "metadata": {
                "azdata_cell_guid": "a4357f18-9d6c-4310-9e88-7126e6497c7e",
                "tags": [],
                "language": "sql"
            },
            "outputs": [],
            "execution_count": 39
        },
        {
            "cell_type": "code",
            "source": [
                "SELECT array_sum(ARRAY[41, 42, 43]);"
            ],
            "metadata": {
                "azdata_cell_guid": "05234f32-4d42-4155-b92c-2a9020ad96e7",
                "tags": [
                    "hide_input"
                ],
                "language": "sql"
            },
            "outputs": [],
            "execution_count": 40
        },
        {
            "cell_type": "markdown",
            "source": [
                "---\r\n",
                "### Arrays and multiple return values"
            ],
            "metadata": {
                "azdata_cell_guid": "e4dc99e7-f0b4-48ca-b829-660b4a065388",
                "tags": [
                    "hide_input"
                ]
            }
        },
        {
            "cell_type": "code",
            "source": [
                "CREATE OR REPLACE FUNCTION array_sum_avg(int_array INT[])\r\n",
                "    RETURNS TABLE (array_sum BIGINT, array_avg NUMERIC)\r\n",
                "AS $$\r\n",
                "    SELECT SUM(el), AVG(el)::NUMERIC(5,2)\r\n",
                "    FROM UNNEST(int_array) AS arr(el);\r\n",
                "$$ LANGUAGE SQL;"
            ],
            "metadata": {
                "azdata_cell_guid": "162db931-59bf-4cb5-8c08-febc50ad9a74",
                "tags": [],
                "language": "sql"
            },
            "outputs": [],
            "execution_count": 41
        },
        {
            "cell_type": "code",
            "source": [
                "SELECT array_sum_avg(ARRAY[41, 42, 43]) AS \"Record type\";\r\n",
                "SELECT * \r\n",
                "FROM array_sum_avg(ARRAY[41, 42, 43]);"
            ],
            "metadata": {
                "azdata_cell_guid": "7545e77e-6016-4618-987a-cd548361a542",
                "tags": [],
                "language": "sql"
            },
            "outputs": [],
            "execution_count": 42
        },
        {
            "cell_type": "markdown",
            "source": [
                "---\r\n",
                "## Clean up"
            ],
            "metadata": {
                "azdata_cell_guid": "ba072929-830d-4a83-bc01-beb5ff5915f1",
                "tags": [
                    "hide_input"
                ]
            }
        },
        {
            "cell_type": "code",
            "source": [
                "DROP FUNCTION IF EXISTS my_pow(x DOUBLE PRECISION, y DOUBLE PRECISION);\r\n",
                "DROP FUNCTION IF EXISTS array_sum(INT4[]);\r\n",
                "DROP FUNCTION IF EXISTS array_sum_avg(INT4[]);"
            ],
            "metadata": {
                "azdata_cell_guid": "b1de72f7-b42b-4ff3-87b8-9e0e60e21f40",
                "tags": [
                    "hide_input"
                ],
                "language": "sql"
            },
            "outputs": [],
            "execution_count": 43
        }
    ]
}