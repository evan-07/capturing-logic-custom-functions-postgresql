{
    "metadata": {
        "kernelspec": {
            "name": "SQL",
            "display_name": "SQL",
            "language": "sql"
        },
        "language_info": {
            "name": "sql",
            "version": ""
        }
    },
    "nbformat_minor": 2,
    "nbformat": 4,
    "cells": [
        {
            "cell_type": "markdown",
            "source": [
                "## Output Arguments"
            ],
            "metadata": {
                "azdata_cell_guid": "88e3b9f6-44e8-44bc-a2e3-8d3a9be043b5",
                "tags": [
                    "hide_input"
                ]
            }
        },
        {
            "cell_type": "code",
            "source": [
                "CREATE OR REPLACE FUNCTION get_cust_name(\r\n",
                "        IN  id INT, \r\n",
                "        OUT firstname VARCHAR, \r\n",
                "        OUT lastname  VARCHAR\r\n",
                ")\r\n",
                "AS $$\r\n",
                "    SELECT c.firstname, c.lastname FROM customers c\r\n",
                "    WHERE  c.customerid = id;\r\n",
                "$$ LANGUAGE SQL;"
            ],
            "metadata": {
                "azdata_cell_guid": "796c369b-02f9-4528-a712-9ad591f99391",
                "tags": [],
                "language": "sql"
            },
            "outputs": [
                {
                    "output_type": "display_data",
                    "data": {
                        "text/html": "Server closed the connection unexpectedly. Attempting to reconnect..."
                    },
                    "metadata": {}
                }
            ],
            "execution_count": null
        },
        {
            "cell_type": "code",
            "source": [
                "SELECT * FROM get_cust_name(42);"
            ],
            "metadata": {
                "azdata_cell_guid": "8b2a543b-0ebd-4b27-9038-dbc5d6a612b7",
                "tags": [
                    "hide_input"
                ],
                "language": "sql"
            },
            "outputs": [],
            "execution_count": 16
        },
        {
            "cell_type": "markdown",
            "source": [
                "---\r\n",
                "### Returning a table revisited"
            ],
            "metadata": {
                "azdata_cell_guid": "0f1798d3-9cbe-41c1-b96d-aabddbd2c67d",
                "tags": [
                    "hide_input"
                ]
            }
        },
        {
            "cell_type": "code",
            "source": [
                "CREATE OR REPLACE FUNCTION get_cust_names(id1 INT, id2 INT)\r\n",
                "    RETURNS TABLE (firstname VARCHAR, lastname VARCHAR)\r\n",
                "AS $$\r\n",
                "    SELECT c.firstname, c.lastname FROM customers c\r\n",
                "    WHERE  c.customerid BETWEEN id1 AND id2;\r\n",
                "$$ LANGUAGE SQL;"
            ],
            "metadata": {
                "azdata_cell_guid": "cdbbde31-a8cd-45ce-bce4-f542fbf9d123",
                "tags": [],
                "language": "sql"
            },
            "outputs": [],
            "execution_count": 17
        },
        {
            "cell_type": "code",
            "source": [
                "SELECT * from get_cust_names(1, 5);"
            ],
            "metadata": {
                "azdata_cell_guid": "b6cd7409-2f54-4feb-84d4-dd083442578e",
                "tags": [
                    "hide_input"
                ],
                "language": "sql"
            },
            "outputs": [],
            "execution_count": 18
        },
        {
            "cell_type": "code",
            "source": [
                "DROP FUNCTION IF EXISTS get_cust_names(id1 INT, id1 INT);\r\n",
                "CREATE OR REPLACE FUNCTION get_cust_names(\r\n",
                "        INOUT id1 INT, id2 INT, \r\n",
                "        OUT firstname VARCHAR, \r\n",
                "        OUT lastname VARCHAR\r\n",
                ")\r\n",
                "AS $$\r\n",
                "    SELECT c.customerid, c.firstname, c.lastname FROM customers c\r\n",
                "    WHERE  c.customerid BETWEEN id1 AND id2\r\n",
                "    -- ORDER BY c.customerid desc;\r\n",
                "$$ LANGUAGE SQL;"
            ],
            "metadata": {
                "azdata_cell_guid": "07487454-b5fb-4e86-89fa-2e230d1a83de",
                "tags": [],
                "language": "sql"
            },
            "outputs": [
                {
                    "output_type": "display_data",
                    "data": {
                        "text/html": "DROP FUNCTION"
                    },
                    "metadata": {}
                },
                {
                    "output_type": "display_data",
                    "data": {
                        "text/html": "CREATE FUNCTION"
                    },
                    "metadata": {}
                },
                {
                    "output_type": "display_data",
                    "data": {
                        "text/html": "Total execution time: 00:00:00.008"
                    },
                    "metadata": {}
                }
            ],
            "execution_count": 14
        },
        {
            "cell_type": "code",
            "source": [
                "SELECT \r\n",
                "    id1 AS customerid, \r\n",
                "    firstname, \r\n",
                "    lastname \r\n",
                "FROM get_cust_names(10000000, 50000000);"
            ],
            "metadata": {
                "azdata_cell_guid": "b4b7bed4-f00f-4c6e-ac48-3167eaad8483",
                "tags": [],
                "language": "sql"
            },
            "outputs": [
                {
                    "output_type": "display_data",
                    "data": {
                        "text/html": "(1 row(s) affected)"
                    },
                    "metadata": {}
                },
                {
                    "output_type": "display_data",
                    "data": {
                        "text/html": "Total execution time: 00:00:00.012"
                    },
                    "metadata": {}
                },
                {
                    "output_type": "execute_result",
                    "execution_count": 15,
                    "data": {
                        "application/vnd.dataresource+json": {
                            "schema": {
                                "fields": [
                                    {
                                        "name": "customerid"
                                    },
                                    {
                                        "name": "firstname"
                                    },
                                    {
                                        "name": "lastname"
                                    }
                                ]
                            },
                            "data": [
                                {
                                    "customerid": "NULL",
                                    "firstname": "NULL",
                                    "lastname": "NULL"
                                }
                            ]
                        },
                        "text/html": "<table><tr><th>customerid</th><th>firstname</th><th>lastname</th></tr><tr><td>NULL</td><td>NULL</td><td>NULL</td></tr></table>"
                    },
                    "metadata": {}
                }
            ],
            "execution_count": 15
        },
        {
            "cell_type": "markdown",
            "source": [
                "---\r\n",
                "### Clean up"
            ],
            "metadata": {
                "azdata_cell_guid": "058bfc15-66a4-4170-8a8f-d11cfc15e551",
                "tags": [
                    "hide_input"
                ]
            }
        },
        {
            "cell_type": "code",
            "source": [
                "DROP FUNCTION IF EXISTS get_cust_name(id INT, OUT firstname VARCHAR, OUT lastname VARCHAR);\r\n",
                "DROP FUNCTION IF EXISTS get_cust_names\r\n",
                "    (id1 INT, id1 INT, OUT firstname VARCHAR, OUT lastname VARCHAR);\r\n",
                "DROP FUNCTION IF EXISTS get_cust_names\r\n",
                "    (INOUT id1 INT, id1 INT, OUT firstname VARCHAR, OUT lastname VARCHAR);\r\n",
                "DROP FUNCTION IF EXISTS get_cust_names(id1 INT, id1 INT);"
            ],
            "metadata": {
                "azdata_cell_guid": "6cff7cdd-9866-495c-b98f-76969bbf96dc",
                "tags": [],
                "language": "sql"
            },
            "outputs": [
                {
                    "output_type": "display_data",
                    "data": {
                        "text/html": "NOTICE: function get_cust_name(pg_catalog.int4) does not exist, skipping"
                    },
                    "metadata": {}
                },
                {
                    "output_type": "display_data",
                    "data": {
                        "text/html": "DROP FUNCTION"
                    },
                    "metadata": {}
                },
                {
                    "output_type": "display_data",
                    "data": {
                        "text/html": "DROP FUNCTION"
                    },
                    "metadata": {}
                },
                {
                    "output_type": "display_data",
                    "data": {
                        "text/html": "NOTICE: function get_cust_names(pg_catalog.int4,pg_catalog.int4) does not exist, skipping"
                    },
                    "metadata": {}
                },
                {
                    "output_type": "display_data",
                    "data": {
                        "text/html": "DROP FUNCTION"
                    },
                    "metadata": {}
                },
                {
                    "output_type": "display_data",
                    "data": {
                        "text/html": "NOTICE: function get_cust_names(pg_catalog.int4,pg_catalog.int4) does not exist, skipping"
                    },
                    "metadata": {}
                },
                {
                    "output_type": "display_data",
                    "data": {
                        "text/html": "DROP FUNCTION"
                    },
                    "metadata": {}
                },
                {
                    "output_type": "display_data",
                    "data": {
                        "text/html": "Total execution time: 00:00:00.296"
                    },
                    "metadata": {}
                }
            ],
            "execution_count": 16
        }
    ]
}