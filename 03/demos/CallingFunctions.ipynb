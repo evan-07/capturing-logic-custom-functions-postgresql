{
    "metadata": {
        "kernelspec": {
            "name": "SQL",
            "display_name": "SQL",
            "language": "sql"
        },
        "language_info": {
            "name": "sql",
            "version": ""
        }
    },
    "nbformat_minor": 2,
    "nbformat": 4,
    "cells": [
        {
            "cell_type": "markdown",
            "source": [
                "## Calling Functions"
            ],
            "metadata": {
                "azdata_cell_guid": "17eb39c8-f16d-4d23-b33d-4930247ed55f",
                "tags": [
                    "hide_input"
                ]
            }
        },
        {
            "cell_type": "markdown",
            "source": [
                "---\r\n",
                "### Create test function"
            ],
            "metadata": {
                "azdata_cell_guid": "85bb6fab-11a0-4f82-9d30-e3d005586c7a",
                "tags": [
                    "hide_input"
                ]
            }
        },
        {
            "cell_type": "code",
            "source": [
                "CREATE OR REPLACE FUNCTION call_me(x INT, y INT, sw BOOLEAN = TRUE)\r\n",
                "    RETURNS INT\r\n",
                "AS $$\r\n",
                "    SELECT x + y WHERE sw\r\n",
                "    UNION ALL\r\n",
                "    SELECT x - y WHERE NOT sw;\r\n",
                "$$ LANGUAGE SQL;   "
            ],
            "metadata": {
                "azdata_cell_guid": "1e2d323d-c52e-496e-9160-a2fa7e477be8",
                "tags": [],
                "language": "sql"
            },
            "outputs": [],
            "execution_count": 10
        },
        {
            "cell_type": "markdown",
            "source": [
                "---\r\n",
                "### Calling options"
            ],
            "metadata": {
                "azdata_cell_guid": "6d6bf012-7ba7-4bb1-8a9a-2730846e8e68",
                "tags": [
                    "hide_input"
                ]
            }
        },
        {
            "cell_type": "code",
            "source": [
                "SELECT \r\n",
                "    call_me(42, -42) AS \"Positional arguments\",\r\n",
                "    call_me(x := 42, y := -42) AS \"Named arguments\",\r\n",
                "    call_me(42, -42, FALSE) AS \"Positional arguments with switch\",\r\n",
                "    call_me(42, -42, sw := FALSE) AS \"Mixed positional and named\"\r\n",
                "    ;"
            ],
            "metadata": {
                "azdata_cell_guid": "6056811a-a63f-4e29-9728-27891b8a2252",
                "tags": [],
                "language": "sql"
            },
            "outputs": [],
            "execution_count": 11
        },
        {
            "cell_type": "markdown",
            "source": [
                "---\r\n",
                "### Will this work?"
            ],
            "metadata": {
                "azdata_cell_guid": "8e910da7-8ae5-409e-94df-f83ccd86a9f5",
                "tags": [
                    "hide_input"
                ]
            }
        },
        {
            "cell_type": "code",
            "source": [
                "SELECT call_me(x := 42, y := -42, FALSE) \"Named followed by positional\";"
            ],
            "metadata": {
                "azdata_cell_guid": "cf67ff32-5ac6-4556-a289-ee67e2cee491",
                "tags": [
                    "hide_input"
                ],
                "language": "sql"
            },
            "outputs": [],
            "execution_count": 13
        },
        {
            "cell_type": "markdown",
            "source": [
                "---\n",
                "### Clean up"
            ],
            "metadata": {
                "azdata_cell_guid": "9c3d383a-16ec-4a10-a94a-0341a47096b0",
                "tags": [
                    "hide_input"
                ]
            }
        },
        {
            "cell_type": "code",
            "source": [
                "DROP FUNCTION IF EXISTS call_me(INT, INT, BOOLEAN);"
            ],
            "metadata": {
                "azdata_cell_guid": "c0315cac-7cfe-41f9-9370-dc8bc9a865f4",
                "tags": [
                    "hide_input"
                ],
                "language": "sql"
            },
            "outputs": [],
            "execution_count": 9
        }
    ]
}