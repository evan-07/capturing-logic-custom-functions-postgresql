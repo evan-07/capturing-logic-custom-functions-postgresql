{
    "metadata": {
        "kernelspec": {
            "name": "SQL",
            "display_name": "SQL",
            "language": "sql"
        },
        "language_info": {
            "name": "sql",
            "version": ""
        }
    },
    "nbformat_minor": 2,
    "nbformat": 4,
    "cells": [
        {
            "cell_type": "markdown",
            "source": [
                "## Changing Database Objects"
            ],
            "metadata": {
                "azdata_cell_guid": "aea28721-6396-4334-b452-fee20130637f"
            }
        },
        {
            "cell_type": "code",
            "source": [
                "CREATE TABLE IF NOT EXISTS foo(a int, b char);\r\n",
                "INSERT INTO foo(a,b) VALUES (1, 'a'), (2,'b');"
            ],
            "metadata": {
                "azdata_cell_guid": "d2d4c669-33c8-485a-8b78-f732104be350",
                "tags": [
                    "hide_input"
                ]
            },
            "outputs": [],
            "execution_count": null
        },
        {
            "cell_type": "code",
            "source": [
                "CREATE OR REPLACE FUNCTION get_foo() \r\n",
                "    RETURNS SETOF foo\r\n",
                "    LANGUAGE SQL\r\n",
                "AS 'SELECT * FROM foo;';\r\n",
                "\r\n",
                "SELECT * FROM get_foo();"
            ],
            "metadata": {
                "azdata_cell_guid": "71682a75-a379-4317-875b-3fd51b11710b",
                "tags": [
                    "hide_input"
                ]
            },
            "outputs": [],
            "execution_count": null
        },
        {
            "cell_type": "code",
            "source": [
                "ALTER TABLE foo ADD c VARCHAR;\r\n",
                "INSERT INTO foo (a,b,c) VALUES (3, 'c', '3 is c');\r\n",
                "\r\n",
                "SELECT * FROM get_foo()"
            ],
            "metadata": {
                "azdata_cell_guid": "2a869068-0c37-46b8-8feb-1c9556d0d7b3",
                "tags": [
                    "hide_input"
                ]
            },
            "outputs": [],
            "execution_count": null
        },
        {
            "cell_type": "markdown",
            "source": [
                "---\r\n",
                "### User code that calls the function"
            ],
            "metadata": {
                "azdata_cell_guid": "4bfa84fc-1e15-474e-9eb7-ddd888e928dc"
            }
        },
        {
            "cell_type": "code",
            "source": [
                "SELECT a, b, c FROM get_foo()"
            ],
            "metadata": {
                "azdata_cell_guid": "282676fd-78e5-4c07-974f-56d9b44d1db0",
                "tags": [
                    "hide_input"
                ]
            },
            "outputs": [],
            "execution_count": null
        },
        {
            "cell_type": "code",
            "source": [
                "ALTER TABLE foo DROP c;"
            ],
            "metadata": {
                "azdata_cell_guid": "ff04b05a-b2e3-4306-9e71-85dea140bbc5",
                "tags": [
                    "hide_input"
                ]
            },
            "outputs": [],
            "execution_count": null
        },
        {
            "cell_type": "code",
            "source": [
                "DROP FUNCTION IF EXISTS get_foo();\r\n",
                "CREATE OR REPLACE FUNCTION get_foo() \r\n",
                "    RETURNS TABLE (a foo.a%TYPE, b foo.b%TYPE)\r\n",
                "    LANGUAGE SQL\r\n",
                "AS 'SELECT a, b FROM foo;';\r\n",
                "\r\n",
                "SELECT * FROM get_foo();"
            ],
            "metadata": {
                "azdata_cell_guid": "8b53e682-3975-4121-be77-789ac3593e8f",
                "tags": [
                    "hide_input"
                ]
            },
            "outputs": [],
            "execution_count": null
        },
        {
            "cell_type": "markdown",
            "source": [
                "---\r\n",
                "### Clean up"
            ],
            "metadata": {
                "azdata_cell_guid": "abe2c587-bd8e-4598-b16a-2d9e8cbacffe"
            }
        },
        {
            "cell_type": "code",
            "source": [
                "DROP FUNCTION IF EXISTS get_foo();\r\n",
                "DROP TABLE IF EXISTS foo;"
            ],
            "metadata": {
                "azdata_cell_guid": "240a96f5-6bb9-4947-8ac6-f4bb833de312",
                "tags": [
                    "hide_input"
                ]
            },
            "outputs": [],
            "execution_count": null
        }
    ]
}