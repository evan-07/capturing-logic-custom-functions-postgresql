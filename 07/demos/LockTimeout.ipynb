{
    "metadata": {
        "kernelspec": {
            "name": "SQL",
            "display_name": "SQL",
            "language": "sql"
        },
        "language_info": {
            "name": "sql",
            "version": ""
        }
    },
    "nbformat_minor": 2,
    "nbformat": 4,
    "cells": [
        {
            "cell_type": "markdown",
            "source": [
                "## Using Exceptions to handle deadlock recovery"
            ],
            "metadata": {
                "azdata_cell_guid": "9d27f62e-5640-4f15-bee9-8b9e6f7ede03"
            }
        },
        {
            "cell_type": "code",
            "source": [
                "CREATE TABLE IF NOT EXISTS foo (a INT, b VARCHAR);\r\n",
                "INSERT INTO foo(a, b) VALUES (42, 'The answer.')"
            ],
            "metadata": {
                "azdata_cell_guid": "300281da-2067-4b5a-bcd5-6e5c80a1a562",
                "tags": [
                    "hide_input"
                ]
            },
            "outputs": [],
            "execution_count": null
        },
        {
            "cell_type": "markdown",
            "source": [
                "---\r\n",
                "### Update "
            ],
            "metadata": {
                "azdata_cell_guid": "5ee188b3-8d31-44d5-b1e3-8aa6070c75a6"
            }
        },
        {
            "cell_type": "code",
            "source": [
                "BEGIN TRANSACTION;\r\n",
                "UPDATE foo \r\n",
                "    SET b = 'The answer'\r\n",
                "WHERE a = 42;\r\n",
                "COMMIT;\r\n",
                ""
            ],
            "metadata": {
                "azdata_cell_guid": "be6f16c1-bac1-4804-9954-30079a1c6bf3",
                "tags": [
                    "hide_input"
                ]
            },
            "outputs": [],
            "execution_count": null
        },
        {
            "cell_type": "code",
            "source": [
                "CREATE OR REPLACE FUNCTION update_foo(a INT, b VARCHAR)\r\n",
                "    RETURNS VOID\r\n",
                "    LANGUAGE plpgsql\r\n",
                "    SET lock_timeout = 1000\r\n",
                "AS $$    \r\n",
                "DECLARE\r\n",
                "    retries INT := 10;\r\n",
                "    sleep DOUBLE PRECISION := .5;\r\n",
                "BEGIN \r\n",
                "    FOR i IN 1..retries LOOP \r\n",
                "        BEGIN\r\n",
                "            UPDATE foo \r\n",
                "                SET b = update_foo.b\r\n",
                "            WHERE foo.a = update_foo.a;\r\n",
                "\r\n",
                "            RETURN;\r\n",
                "        EXCEPTION \r\n",
                "            WHEN lock_not_available THEN\r\n",
                "                IF i = retries THEN \r\n",
                "                    RAISE NOTICE 'Update failed due to locking';\r\n",
                "                    RAISE;\r\n",
                "                    RETURN;\r\n",
                "                ELSE\r\n",
                "                    RAISE INFO 'Couldn''t get lock, attempt % of %.', i, retries;\r\n",
                "                    PERFORM pg_sleep(sleep);\r\n",
                "                END IF;\r\n",
                "            WHEN OTHERS THEN \r\n",
                "                RAISE;\r\n",
                "                RETURN;\r\n",
                "        END;\r\n",
                "    END LOOP;\r\n",
                "END;\r\n",
                "$$;"
            ],
            "metadata": {
                "azdata_cell_guid": "56bd4b0f-ab35-4a5c-a8d1-25b53fb94e74",
                "tags": [
                    "hide_input"
                ]
            },
            "outputs": [],
            "execution_count": null
        },
        {
            "cell_type": "code",
            "source": [
                "BEGIN TRANSACTION ISOLATION LEVEL READ COMMITTED;\r\n",
                "SELECT update_foo(42, 'The answer');\r\n",
                "COMMIT;"
            ],
            "metadata": {
                "azdata_cell_guid": "4f433fdf-cead-4528-81c9-e0b39a49f237",
                "tags": [
                    "hide_input"
                ]
            },
            "outputs": [],
            "execution_count": null
        },
        {
            "cell_type": "markdown",
            "source": [
                "---\r\n",
                "### Clean up"
            ],
            "metadata": {
                "azdata_cell_guid": "1750af4e-dbc9-4c16-840d-5943b8bcaa90"
            }
        },
        {
            "cell_type": "code",
            "source": [
                "DROP TABLE IF EXISTS foo;"
            ],
            "metadata": {
                "azdata_cell_guid": "2ba8d30d-6599-4de0-8340-77d55d390091",
                "tags": [
                    "hide_input"
                ]
            },
            "outputs": [],
            "execution_count": null
        }
    ]
}