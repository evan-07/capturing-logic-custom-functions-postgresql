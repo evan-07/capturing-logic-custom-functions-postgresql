{
    "metadata": {
        "kernelspec": {
            "name": "SQL",
            "display_name": "SQL",
            "language": "sql"
        },
        "language_info": {
            "name": "sql",
            "version": ""
        }
    },
    "nbformat_minor": 2,
    "nbformat": 4,
    "cells": [
        {
            "cell_type": "markdown",
            "source": [
                "## Enviroment Settings"
            ],
            "metadata": {
                "azdata_cell_guid": "43a05eaf-6d04-4968-b1af-517471975aae"
            }
        },
        {
            "cell_type": "markdown",
            "source": [
                "---\r\n",
                "### Date Style"
            ],
            "metadata": {
                "azdata_cell_guid": "9fe54c9b-d6cf-48b6-8c49-c09c3f75a366"
            }
        },
        {
            "cell_type": "code",
            "source": [
                "CREATE TABLE IF NOT EXISTS foo (d date);\r\n",
                "SET DateStyle = ISO, DMY;\r\n",
                "INSERT INTO foo(d) VALUES ('06/07/2020');\r\n",
                "SET DateStyle = ISO, MDY;\r\n",
                "INSERT INTO foo(d) VALUES ('06/08/2020');\r\n",
                "\r\n",
                "SELECT to_char(d, 'MON dd, yyyy') FROM foo;"
            ],
            "metadata": {
                "azdata_cell_guid": "bbcb761c-6565-497d-83d3-9ec1d3c435e6",
                "tags": [
                    "hide_input"
                ]
            },
            "outputs": [],
            "execution_count": null
        },
        {
            "cell_type": "code",
            "source": [
                "CREATE OR REPLACE FUNCTION insert_foo(ddmmyyyy VARCHAR)\r\n",
                "    RETURNS VOID\r\n",
                "    LANGUAGE sql\r\n",
                "    SET DateStyle = ISO, DMY\r\n",
                "AS $$\r\n",
                "    INSERT INTO foo(d) VALUES (ddmmyyyy::DATE);\r\n",
                "$$;"
            ],
            "metadata": {
                "azdata_cell_guid": "36269c8b-bc7f-4b4d-87ad-d37e127d229e",
                "tags": [
                    "hide_input"
                ]
            },
            "outputs": [],
            "execution_count": null
        },
        {
            "cell_type": "code",
            "source": [
                "TRUNCATE TABLE foo;\r\n",
                "SET DateStyle = ISO, DMY;\r\n",
                "SELECT insert_foo('06/07/2020');\r\n",
                "SET DateStyle = ISO, MDY;\r\n",
                "SELECT insert_foo('06/08/2020');\r\n",
                "\r\n",
                "SELECT to_char(d, 'MON dd, yyyy') FROM foo;"
            ],
            "metadata": {
                "azdata_cell_guid": "0a5fde01-d633-4876-93f0-87482cb49028",
                "tags": [
                    "hide_input"
                ]
            },
            "outputs": [],
            "execution_count": null
        },
        {
            "cell_type": "markdown",
            "source": [
                "---\r\n",
                "### Clean up"
            ],
            "metadata": {
                "azdata_cell_guid": "64b46e2c-15fe-43a6-a5cf-f08fdc3e37b3"
            }
        },
        {
            "cell_type": "code",
            "source": [
                "DROP TABLE IF EXISTS foo;\r\n",
                "DROP FUNCTION IF EXISTS insert_foo(VARCHAR);"
            ],
            "metadata": {
                "azdata_cell_guid": "4dcf4402-5332-4772-8157-15d6be8a3a09",
                "tags": [
                    "hide_input"
                ]
            },
            "outputs": [],
            "execution_count": null
        }
    ]
}