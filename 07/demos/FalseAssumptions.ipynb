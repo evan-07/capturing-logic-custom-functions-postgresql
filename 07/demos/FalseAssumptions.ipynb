{
    "metadata": {
        "kernelspec": {
            "name": "SQL",
            "display_name": "SQL",
            "language": "sql"
        },
        "language_info": {
            "name": "sql",
            "version": ""
        }
    },
    "nbformat_minor": 2,
    "nbformat": 4,
    "cells": [
        {
            "cell_type": "markdown",
            "source": [
                "## False Assumptions"
            ],
            "metadata": {
                "azdata_cell_guid": "bf6e4348-0ccc-4fe0-9d73-5cd34e6b1ce5"
            }
        },
        {
            "cell_type": "markdown",
            "source": [
                "---\r\n",
                "### Pattern matching"
            ],
            "metadata": {
                "azdata_cell_guid": "4d66bc00-a975-4542-bf34-b572082ebb03"
            }
        },
        {
            "cell_type": "code",
            "source": [
                "CREATE TABLE IF NOT EXISTS foo(t TEXT);\r\n",
                "INSERT INTO foo(t) VALUES('the'),('answer'),('is'),('42')"
            ],
            "metadata": {
                "azdata_cell_guid": "c80f5a9c-00e0-4559-a534-4728d3082e61",
                "tags": []
            },
            "outputs": [
                {
                    "output_type": "display_data",
                    "data": {
                        "text/html": "Commands completed successfully"
                    },
                    "metadata": {}
                },
                {
                    "output_type": "display_data",
                    "data": {
                        "text/html": "Commands completed successfully"
                    },
                    "metadata": {}
                },
                {
                    "output_type": "display_data",
                    "data": {
                        "text/html": "Total execution time: 00:00:00.023"
                    },
                    "metadata": {}
                }
            ],
            "execution_count": 10
        },
        {
            "cell_type": "code",
            "source": [
                "CREATE OR REPLACE FUNCTION search_foo(what TEXT) \r\n",
                "    RETURNS SETOF foo\r\n",
                "    LANGUAGE SQL\r\n",
                "AS $$\r\n",
                "    SELECT * FROM foo WHERE t LIKE what || '%';\r\n",
                "$$;\r\n",
                "\r\n",
                "SELECT * FROM search_foo('ans');"
            ],
            "metadata": {
                "azdata_cell_guid": "148ebd91-e7c9-470a-b624-97683455005b",
                "tags": []
            },
            "outputs": [
                {
                    "output_type": "display_data",
                    "data": {
                        "text/html": "Commands completed successfully"
                    },
                    "metadata": {}
                },
                {
                    "output_type": "display_data",
                    "data": {
                        "text/html": "(1 row(s) affected)"
                    },
                    "metadata": {}
                },
                {
                    "output_type": "display_data",
                    "data": {
                        "text/html": "Total execution time: 00:00:00.017"
                    },
                    "metadata": {}
                },
                {
                    "output_type": "execute_result",
                    "metadata": {},
                    "execution_count": 11,
                    "data": {
                        "application/vnd.dataresource+json": {
                            "schema": {
                                "fields": [
                                    {
                                        "name": "t"
                                    }
                                ]
                            },
                            "data": [
                                {
                                    "0": "answer"
                                }
                            ]
                        },
                        "text/html": "<table><tr><th>t</th></tr><tr><td>answer</td></tr></table>"
                    }
                }
            ],
            "execution_count": 11
        },
        {
            "cell_type": "code",
            "source": [
                "INSERT INTO foo(t) VALUES ('_oops');\r\n",
                "SELECT * FROM search_foo('_');"
            ],
            "metadata": {
                "azdata_cell_guid": "742c7c86-42b1-4fe6-a24a-0c2aa51d2a8f",
                "tags": []
            },
            "outputs": [
                {
                    "output_type": "display_data",
                    "data": {
                        "text/html": "Commands completed successfully"
                    },
                    "metadata": {}
                },
                {
                    "output_type": "display_data",
                    "data": {
                        "text/html": "(5 row(s) affected)"
                    },
                    "metadata": {}
                },
                {
                    "output_type": "display_data",
                    "data": {
                        "text/html": "Displaying Top 5 rows."
                    },
                    "metadata": {}
                },
                {
                    "output_type": "display_data",
                    "data": {
                        "text/html": "Total execution time: 00:00:00.018"
                    },
                    "metadata": {}
                },
                {
                    "output_type": "execute_result",
                    "metadata": {},
                    "execution_count": 12,
                    "data": {
                        "application/vnd.dataresource+json": {
                            "schema": {
                                "fields": [
                                    {
                                        "name": "t"
                                    }
                                ]
                            },
                            "data": [
                                {
                                    "0": "the"
                                },
                                {
                                    "0": "answer"
                                },
                                {
                                    "0": "is"
                                },
                                {
                                    "0": "42"
                                },
                                {
                                    "0": "_oops"
                                }
                            ]
                        },
                        "text/html": "<table><tr><th>t</th></tr><tr><td>the</td></tr><tr><td>answer</td></tr><tr><td>is</td></tr><tr><td>42</td></tr><tr><td>_oops</td></tr></table>"
                    }
                }
            ],
            "execution_count": 12
        },
        {
            "cell_type": "markdown",
            "source": [
                "---\r\n",
                "### WHERE and CASE assumptions"
            ],
            "metadata": {
                "azdata_cell_guid": "61d68c4d-e00e-463c-83b1-732e41aa9210"
            }
        },
        {
            "cell_type": "code",
            "source": [
                "SELECT * FROM customers\r\n",
                "WHERE customerid = 30000 AND 1/0 IS NULL;"
            ],
            "metadata": {
                "azdata_cell_guid": "5d8aacf2-26f3-476b-a458-52c841d0d544",
                "tags": []
            },
            "outputs": [
                {
                    "output_type": "error",
                    "evalue": "division by zero",
                    "ename": "",
                    "traceback": []
                },
                {
                    "output_type": "display_data",
                    "data": {
                        "text/html": "Total execution time: 00:00:00.002"
                    },
                    "metadata": {}
                }
            ],
            "execution_count": 13
        },
        {
            "cell_type": "code",
            "source": [
                "SELECT age, \r\n",
                "    CASE age \r\n",
                "        WHEN 18  THEN 1 \r\n",
                "        WHEN 1/0 THEN 2 \r\n",
                "    END\r\n",
                "FROM customers \r\n",
                "WHERE customerid = 42"
            ],
            "metadata": {
                "azdata_cell_guid": "f7c6bb61-d63f-4a39-9a14-3847d343672e",
                "tags": []
            },
            "outputs": [
                {
                    "output_type": "error",
                    "evalue": "division by zero",
                    "ename": "",
                    "traceback": []
                },
                {
                    "output_type": "display_data",
                    "data": {
                        "text/html": "Total execution time: 00:00:00.002"
                    },
                    "metadata": {}
                }
            ],
            "execution_count": 14
        },
        {
            "cell_type": "markdown",
            "source": [
                "---\r\n",
                "### \"Natural order\""
            ],
            "metadata": {
                "azdata_cell_guid": "46eda359-3e5a-4084-892f-8aaeca3ec21a"
            }
        },
        {
            "cell_type": "code",
            "source": [
                "SELECT * FROM foo;\r\n",
                "\r\n",
                "UPDATE foo \r\n",
                "    SET t = 'forty two is seven times six'\r\n",
                "WHERE t = '42';\r\n",
                "\r\n",
                "SELECT * FROM foo;"
            ],
            "metadata": {
                "azdata_cell_guid": "81d850c9-a05d-4431-af52-54ad4e6cd6a4",
                "tags": []
            },
            "outputs": [
                {
                    "output_type": "display_data",
                    "data": {
                        "text/html": "(5 row(s) affected)"
                    },
                    "metadata": {}
                },
                {
                    "output_type": "display_data",
                    "data": {
                        "text/html": "Displaying Top 5 rows."
                    },
                    "metadata": {}
                },
                {
                    "output_type": "display_data",
                    "data": {
                        "text/html": "Commands completed successfully"
                    },
                    "metadata": {}
                },
                {
                    "output_type": "execute_result",
                    "metadata": {},
                    "execution_count": 15,
                    "data": {
                        "application/vnd.dataresource+json": {
                            "schema": {
                                "fields": [
                                    {
                                        "name": "t"
                                    }
                                ]
                            },
                            "data": [
                                {
                                    "0": "the"
                                },
                                {
                                    "0": "answer"
                                },
                                {
                                    "0": "is"
                                },
                                {
                                    "0": "42"
                                },
                                {
                                    "0": "_oops"
                                }
                            ]
                        },
                        "text/html": "<table><tr><th>t</th></tr><tr><td>the</td></tr><tr><td>answer</td></tr><tr><td>is</td></tr><tr><td>42</td></tr><tr><td>_oops</td></tr></table>"
                    }
                },
                {
                    "output_type": "display_data",
                    "data": {
                        "text/html": "(5 row(s) affected)"
                    },
                    "metadata": {}
                },
                {
                    "output_type": "display_data",
                    "data": {
                        "text/html": "Displaying Top 5 rows."
                    },
                    "metadata": {}
                },
                {
                    "output_type": "display_data",
                    "data": {
                        "text/html": "Total execution time: 00:00:00.027"
                    },
                    "metadata": {}
                },
                {
                    "output_type": "execute_result",
                    "metadata": {},
                    "execution_count": 15,
                    "data": {
                        "application/vnd.dataresource+json": {
                            "schema": {
                                "fields": [
                                    {
                                        "name": "t"
                                    }
                                ]
                            },
                            "data": [
                                {
                                    "0": "the"
                                },
                                {
                                    "0": "answer"
                                },
                                {
                                    "0": "is"
                                },
                                {
                                    "0": "_oops"
                                },
                                {
                                    "0": "forty two is seven times six"
                                }
                            ]
                        },
                        "text/html": "<table><tr><th>t</th></tr><tr><td>the</td></tr><tr><td>answer</td></tr><tr><td>is</td></tr><tr><td>_oops</td></tr><tr><td>forty two is seven times six</td></tr></table>"
                    }
                }
            ],
            "execution_count": 15
        },
        {
            "cell_type": "markdown",
            "source": [
                "---\r\n",
                "### Clean up"
            ],
            "metadata": {
                "azdata_cell_guid": "1264a0be-9b46-44fe-b4e1-4ec96d1be882"
            }
        },
        {
            "cell_type": "code",
            "source": [
                "DROP FUNCTION IF EXISTS search_foo(TEXT);\r\n",
                "DROP TABLE IF EXISTS foo;"
            ],
            "metadata": {
                "azdata_cell_guid": "4fa811c5-430c-4e99-8e28-3bcd0420f14d",
                "tags": []
            },
            "outputs": [
                {
                    "output_type": "display_data",
                    "data": {
                        "text/html": "Commands completed successfully"
                    },
                    "metadata": {}
                },
                {
                    "output_type": "display_data",
                    "data": {
                        "text/html": "Commands completed successfully"
                    },
                    "metadata": {}
                },
                {
                    "output_type": "display_data",
                    "data": {
                        "text/html": "Total execution time: 00:00:00.009"
                    },
                    "metadata": {}
                }
            ],
            "execution_count": 16
        }
    ]
}