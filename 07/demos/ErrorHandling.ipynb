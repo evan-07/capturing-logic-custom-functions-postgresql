{
    "metadata": {
        "kernelspec": {
            "name": "SQL",
            "display_name": "SQL",
            "language": "sql"
        },
        "language_info": {
            "name": "sql",
            "version": ""
        }
    },
    "nbformat_minor": 2,
    "nbformat": 4,
    "cells": [
        {
            "cell_type": "markdown",
            "source": [
                "## Error Handling"
            ],
            "metadata": {
                "azdata_cell_guid": "827392c3-b4f8-4aa7-ac8b-90b83a70dcf4"
            }
        },
        {
            "cell_type": "code",
            "source": [
                "CREATE TABLE IF NOT EXISTS foo(a INT PRIMARY KEY, question VARCHAR NOT NULL);\n",
                "INSERT INTO foo(a, question) VALUES (42, 'The answer is 42.');"
            ],
            "metadata": {
                "azdata_cell_guid": "9dbd4644-f816-4d63-9d6f-7809d99cd1a2",
                "tags": [
                    "hide_input"
                ]
            },
            "outputs": [],
            "execution_count": null
        },
        {
            "cell_type": "code",
            "source": [
                "CREATE OR REPLACE FUNCTION oops(a INT, question VARCHAR)\r\n",
                "    RETURNS VOID\r\n",
                "    LANGUAGE plpgsql\r\n",
                "AS $$\r\n",
                "BEGIN\r\n",
                "    INSERT INTO foo(a, question) VALUES (oops.a, oops.question);\r\n",
                "END $$;\r\n",
                "\r\n",
                "SELECT oops(42, 'Same answer?');"
            ],
            "metadata": {
                "azdata_cell_guid": "f5497535-1518-4531-814d-08974048ef62",
                "tags": [
                    "hide_input"
                ]
            },
            "outputs": [],
            "execution_count": null
        },
        {
            "cell_type": "code",
            "source": [
                "CREATE OR REPLACE FUNCTION oops(a INT, question VARCHAR)\r\n",
                "    RETURNS VOID\r\n",
                "    LANGUAGE plpgsql\r\n",
                "AS $$\r\n",
                "BEGIN\r\n",
                "    INSERT INTO foo(a, question) VALUES (oops.a, oops.question);\r\n",
                "EXCEPTION WHEN unique_violation THEN\r\n",
                "    RAISE NOTICE 'Key \"%\" already exists in table.', oops.a;\r\n",
                "END $$;\r\n",
                "\r\n",
                "SELECT oops(42, 'Same answer?');"
            ],
            "metadata": {
                "azdata_cell_guid": "cacde801-cc1e-409b-b100-28ad68923c09",
                "tags": [
                    "hide_input"
                ]
            },
            "outputs": [],
            "execution_count": null
        },
        {
            "cell_type": "markdown",
            "source": [
                "---\r\n",
                "### Handling errors in plpgsql\r\n",
                "\r\n",
                "```SQL\r\n",
                "[ <<label>> ]\r\n",
                "[ DECLARE\r\n",
                "    declarations ]\r\n",
                "BEGIN\r\n",
                "    statements\r\n",
                "EXCEPTION\r\n",
                "    WHEN condition [ OR condition ... ] THEN\r\n",
                "        handler_statements\r\n",
                "    [ WHEN condition [ OR condition ... ] THEN\r\n",
                "          handler_statements\r\n",
                "      ... ]\r\n",
                "END;\r\n",
                "```"
            ],
            "metadata": {
                "azdata_cell_guid": "9358451d-0dae-484f-9623-0634a1595819"
            }
        },
        {
            "cell_type": "markdown",
            "source": [
                "---\r\n",
                "### Integrity Constraint Violations \r\n",
                "- See https://www.postgresql.org/docs/current/errcodes-appendix.html\r\n",
                "\r\n",
                "SQLSTATE|Condition\r\n",
                "--------|---------\r\n",
                "23000|integrity_constraint_violation\r\n",
                "23001|restrict_violation\r\n",
                "23502|not_null_violation\r\n",
                "23503|foreign_key_violation\r\n",
                "23505|unique_violation\r\n",
                "23514|check_violation\r\n",
                "23P01|exclusion_violation"
            ],
            "metadata": {
                "azdata_cell_guid": "69192450-453f-4f3c-a9c2-502bfc3e733e"
            }
        },
        {
            "cell_type": "markdown",
            "source": [
                "---\r\n",
                "### Getting error information\r\n",
                "    GET STACKED DIAGNOSTICS variable { = | := } item [ , ... ];\r\n",
                "### Items\r\n",
                "\r\n",
                "Name|Description\r\n",
                "----|-----------\r\n",
                "RETURNED_SQLSTATE|the SQLSTATE error code of the exception\r\n",
                "COLUMN_NAME|the name of the column related to exception\r\n",
                "CONSTRAINT_NAME|the name of the constraint related to exception\r\n",
                "PG_DATATYPE_NAME|the name of the data type related to exception\r\n",
                "MESSAGE_TEXT|the text of the exception's primary message\r\n",
                "TABLE_NAME|the name of the table related to exception\r\n",
                "SCHEMA_NAME|the name of the schema related to exception\r\n",
                "PG_EXCEPTION_DETAIL|the text of the exception's detail message, if any\r\n",
                "PG_EXCEPTION_HINT|the text of the exception's hint message, if any\r\n",
                "PG_EXCEPTION_CONTEXT|line(s) of text describing the call stack at the time of the exception\r\n",
                ""
            ],
            "metadata": {
                "azdata_cell_guid": "6145517e-6aca-4062-bae0-91a54ccf4946"
            }
        },
        {
            "cell_type": "code",
            "source": [
                "CREATE OR REPLACE FUNCTION oops(a INT, question VARCHAR)\r\n",
                "    RETURNS VOID\r\n",
                "    LANGUAGE plpgsql\r\n",
                "AS $$\r\n",
                "DECLARE\r\n",
                "    msg text;\r\n",
                "    stt text;\r\n",
                "    tbl text;\r\n",
                "    sch text;\r\n",
                "    cst text;\r\n",
                "BEGIN\r\n",
                "    INSERT INTO foo(a, question) VALUES (oops.a, oops.question);\r\n",
                "EXCEPTION \r\n",
                "    WHEN OTHERS THEN\r\n",
                "        GET STACKED DIAGNOSTICS \r\n",
                "            msg := MESSAGE_TEXT,\r\n",
                "            stt := RETURNED_SQLSTATE,\r\n",
                "            tbl := TABLE_NAME,\r\n",
                "            sch := SCHEMA_NAME,\r\n",
                "            cst := CONSTRAINT_NAME;\r\n",
                "        RAISE NOTICE 'SQLSTATE=%, Table=%.%, Constraint=%', stt, sch, tbl, cst;\r\n",
                "        RAISE;\r\n",
                "END $$;\r\n",
                "\r\n",
                "SELECT oops(42, 'Same answer?');"
            ],
            "metadata": {
                "azdata_cell_guid": "edacd896-b921-4b78-a7d6-93a168494518",
                "tags": [
                    "hide_input"
                ]
            },
            "outputs": [],
            "execution_count": null
        },
        {
            "cell_type": "markdown",
            "source": [
                "---\r\n",
                "### Clean up"
            ],
            "metadata": {
                "azdata_cell_guid": "566467a1-2071-4013-b804-5e79483d1757"
            }
        },
        {
            "cell_type": "code",
            "source": [
                "DROP FUNCTION IF EXISTS oops(INT, VARCHAR);\r\n",
                "DROP TABLE IF EXISTS foo;"
            ],
            "metadata": {
                "azdata_cell_guid": "034e6e7f-d307-4603-81c5-0f5a886bc9c0",
                "tags": [
                    "hide_input"
                ]
            },
            "outputs": [],
            "execution_count": null
        }
    ]
}