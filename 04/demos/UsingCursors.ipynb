{
    "metadata": {
        "kernelspec": {
            "name": "SQL",
            "display_name": "SQL",
            "language": "sql"
        },
        "language_info": {
            "name": "sql",
            "version": ""
        }
    },
    "nbformat_minor": 2,
    "nbformat": 4,
    "cells": [
        {
            "cell_type": "markdown",
            "source": [
                "## Iteration using Cursors"
            ],
            "metadata": {
                "azdata_cell_guid": "9d6cd5fb-25af-4fb1-95b0-5d8a54580c21"
            }
        },
        {
            "cell_type": "markdown",
            "source": [
                "---\r\n",
                "### Bound cursors"
            ],
            "metadata": {
                "azdata_cell_guid": "d042d9ef-bf2d-4e41-8cd6-ed2e2a4fd554"
            }
        },
        {
            "cell_type": "code",
            "source": [
                "DO $$\r\n",
                "DECLARE \r\n",
                "    cur CURSOR FOR SELECT * from customers;\r\n",
                "    rc  INT = 3;\r\n",
                "BEGIN\r\n",
                "    FOR rec in cur LOOP\r\n",
                "        IF rc > 0 THEN\r\n",
                "            RAISE INFO '(%, %)', rec.customerid, rec.firstname;\r\n",
                "        END IF;            \r\n",
                "        rc = rc - 1;\r\n",
                "        IF rc = 0 THEN \r\n",
                "            EXIT;\r\n",
                "        END IF;\r\n",
                "    END LOOP;\r\n",
                "END;\r\n",
                "$$  "
            ],
            "metadata": {
                "azdata_cell_guid": "5017d5a9-b12f-412e-822c-8c40a2a16372",
                "tags": [
                    "hide_input"
                ]
            },
            "outputs": [],
            "execution_count": 28
        },
        {
            "cell_type": "markdown",
            "source": [
                "---\r\n",
                "### Unbound cursor"
            ],
            "metadata": {
                "azdata_cell_guid": "0ab484d4-5d72-49ac-a610-64b1b68c2f93"
            }
        },
        {
            "cell_type": "code",
            "source": [
                "DO $$\r\n",
                "DECLARE \r\n",
                "    cur REFCURSOR;\r\n",
                "    fn customers.firstname%TYPE;\r\n",
                "BEGIN\r\n",
                "    OPEN cur FOR SELECT firstname from customers;\r\n",
                "    FOR rc IN 1..3 LOOP\r\n",
                "        FETCH NEXT FROM cur INTO fn;\r\n",
                "        RAISE INFO '(%, %)', rc, fn;\r\n",
                "        rc = rc + 1;\r\n",
                "    END LOOP;\r\n",
                "    CLOSE cur;\r\n",
                "END;\r\n",
                "$$    "
            ],
            "metadata": {
                "azdata_cell_guid": "b1cb4167-69ac-44ca-9de7-4989821c333a",
                "tags": [
                    "hide_input"
                ]
            },
            "outputs": [],
            "execution_count": 29
        },
        {
            "cell_type": "markdown",
            "source": [
                "---\r\n",
                "### Cursor with parameter"
            ],
            "metadata": {
                "azdata_cell_guid": "51d40c6a-7901-48b5-a9be-dac2140b14f1"
            }
        },
        {
            "cell_type": "code",
            "source": [
                "CREATE OR REPLACE FUNCTION get_cur(prefix VARCHAR)\r\n",
                "    RETURNS refcursor\r\n",
                "LANGUAGE plpgsql AS $$\r\n",
                "DECLARE cur CURSOR (p VARCHAR) FOR \r\n",
                "    SELECT * from customers WHERE firstname LIKE p || '%';\r\n",
                "BEGIN\r\n",
                "    OPEN cur(prefix);\r\n",
                "    RETURN cur;\r\n",
                "END;\r\n",
                "$$;"
            ],
            "metadata": {
                "azdata_cell_guid": "e630dae1-e90d-46a1-8b21-03dded40480b",
                "tags": [
                    "hide_input"
                ]
            },
            "outputs": [],
            "execution_count": 30
        },
        {
            "cell_type": "code",
            "source": [
                "BEGIN;  \r\n",
                "SELECT get_cur('AZ');\r\n",
                "FETCH 5 FROM cur;\r\n",
                "COMMIT;"
            ],
            "metadata": {
                "azdata_cell_guid": "d23b4122-9a02-40c3-8142-30b50d3745d9",
                "tags": [
                    "hide_input"
                ]
            },
            "outputs": [],
            "execution_count": 31
        },
        {
            "cell_type": "markdown",
            "source": [
                "---\r\n",
                "### Clean up"
            ],
            "metadata": {
                "azdata_cell_guid": "c3dd688e-0a34-4d33-9d43-b5fcc97b7dd4"
            }
        },
        {
            "cell_type": "code",
            "source": [
                "DROP FUNCTION IF EXISTS get_cur(prefix VARCHAR, refcursor);\r\n",
                "DROP FUNCTION IF EXISTS get_cur(prefix VARCHAR);"
            ],
            "metadata": {
                "azdata_cell_guid": "4407771e-006c-4991-ab8d-ea6f05323766",
                "tags": [
                    "hide_input"
                ]
            },
            "outputs": [],
            "execution_count": 32
        }
    ]
}