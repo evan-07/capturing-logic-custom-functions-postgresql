{
    "metadata": {
        "kernelspec": {
            "name": "SQL",
            "display_name": "SQL",
            "language": "sql"
        },
        "language_info": {
            "name": "sql",
            "version": ""
        }
    },
    "nbformat_minor": 2,
    "nbformat": 4,
    "cells": [
        {
            "cell_type": "markdown",
            "source": [
                "## Iteration"
            ],
            "metadata": {
                "azdata_cell_guid": "db31c2ba-6c88-4f8c-8bb1-9278dc46e25f"
            }
        },
        {
            "cell_type": "markdown",
            "source": [
                "---\r\n",
                "### Simple loops"
            ],
            "metadata": {
                "azdata_cell_guid": "bacf44e4-ee42-460f-8bc6-7cad80b923f2"
            }
        },
        {
            "cell_type": "code",
            "source": [
                "DO $$ \r\n",
                "DECLARE \r\n",
                "    i INT := 1;\r\n",
                "BEGIN\r\n",
                "    <<loop_label>>\r\n",
                "    LOOP \r\n",
                "        RAISE NOTICE 'In a loop, iteration %', i;\r\n",
                "        i = i + 1;\r\n",
                "        IF i > 3 THEN\r\n",
                "            EXIT loop_label; \r\n",
                "        END IF;        \r\n",
                "    END LOOP loop_label;\r\n",
                "RAISE NOTICE 'Finally out!';\r\n",
                "END $$;"
            ],
            "metadata": {
                "azdata_cell_guid": "c5da1d97-05c2-4dff-8bd3-129c27453093",
                "tags": [
                    "hide_input"
                ]
            },
            "outputs": [],
            "execution_count": 8
        },
        {
            "cell_type": "code",
            "source": [
                "DO $$ \r\n",
                "DECLARE \r\n",
                "    i INT := 1;\r\n",
                "BEGIN\r\n",
                "    LOOP \r\n",
                "        RAISE NOTICE 'In a loop, iteration %', i;\r\n",
                "        i = i + 1;\r\n",
                "        EXIT WHEN i > 3;   \r\n",
                "        CONTINUE  WHEN i <= 3;        \r\n",
                "END LOOP;\r\n",
                "RAISE NOTICE 'Finally out!';\r\n",
                "END $$;"
            ],
            "metadata": {
                "azdata_cell_guid": "b93b6a67-9a4f-4d5c-ad79-29c23bae2879",
                "tags": [
                    "hide_input"
                ]
            },
            "outputs": [],
            "execution_count": 9
        },
        {
            "cell_type": "markdown",
            "source": [
                "---\r\n",
                "### While loops"
            ],
            "metadata": {
                "azdata_cell_guid": "97fcab0a-df34-4772-845c-5cb872f8c240"
            }
        },
        {
            "cell_type": "code",
            "source": [
                "DO $$ \r\n",
                "DECLARE \r\n",
                "    i INT := 1;\r\n",
                "BEGIN\r\n",
                "    WHILE i <= 3 LOOP\r\n",
                "        RAISE NOTICE 'In a loop, iteration %', i;\r\n",
                "        i = i + 1; \r\n",
                "    END LOOP;\r\n",
                "RAISE NOTICE 'Finally out!';\r\n",
                "END $$;"
            ],
            "metadata": {
                "azdata_cell_guid": "18768c5d-1c5c-42ed-88ba-39a48339015e",
                "tags": [
                    "hide_input"
                ]
            },
            "outputs": [],
            "execution_count": 10
        },
        {
            "cell_type": "markdown",
            "source": [
                "---\r\n",
                "### For loops: Integer iterator\r\n",
                "    [ <<label>> ]\r\n",
                "    FOR name IN [ REVERSE ] expression .. expression [ BY expression ] LOOP\r\n",
                "        statements\r\n",
                "    END LOOP [ label ];"
            ],
            "metadata": {
                "azdata_cell_guid": "5bfc110b-1b74-46d8-a668-b5d6165c69ff"
            }
        },
        {
            "cell_type": "code",
            "source": [
                "DO $$ \n",
                "<<outside>>\n",
                "DECLARE i int = 42;\n",
                "BEGIN\n",
                "    <<inside>>\n",
                "    FOR i IN 1..3 LOOP\n",
                "        RAISE NOTICE 'In a loop, iteration %, outer \"i\" %', inside.i, outside.i;\n",
                "    END LOOP;  \n",
                "RAISE NOTICE 'Finally out!';\n",
                "END $$"
            ],
            "metadata": {
                "azdata_cell_guid": "8dcaff4c-8bc1-4e36-a57f-876a3f236c6d",
                "tags": [
                    "hide_input"
                ]
            },
            "outputs": [],
            "execution_count": 11
        },
        {
            "cell_type": "markdown",
            "source": [
                "---\r\n",
                "### Optional arguments for integer iterators\r\n",
                "    FOR i IN REVERSE 1..5 LOOP\r\n",
                "        -- i set to 5, 4, 3, 2, 1\r\n",
                "    END LOOP\r\n",
                "  \r\n",
                "    FOR i IN 1..5 LOOP BY 2\r\n",
                "        -- i set to 1, 3, 5\r\n",
                "    END LOOP"
            ],
            "metadata": {
                "azdata_cell_guid": "fc052fbd-7d7f-40c4-9870-73b083aa2098"
            }
        },
        {
            "cell_type": "markdown",
            "source": [
                "---\r\n",
                "### For loops: Looping over query results"
            ],
            "metadata": {
                "azdata_cell_guid": "b4d4bcc4-8d2d-4576-8dec-0cf5a66acad3"
            }
        },
        {
            "cell_type": "code",
            "source": [
                "DO $$ \r\n",
                "DECLARE \r\n",
                "    i customers.customerid%TYPE;\r\n",
                "BEGIN\r\n",
                "    FOR i IN \r\n",
                "        SELECT c.customerid FROM customers c\r\n",
                "        WHERE c.customerid <= 3\r\n",
                "        LOOP\r\n",
                "            RAISE NOTICE 'In a loop, iteration %', i;\r\n",
                "    END LOOP;\r\n",
                "RAISE NOTICE 'Finally out!';\r\n",
                "END $$"
            ],
            "metadata": {
                "azdata_cell_guid": "bc88b02c-ef6c-4ce8-8bd3-890fc5716f9d",
                "tags": [
                    "hide_input"
                ]
            },
            "outputs": [],
            "execution_count": 12
        },
        {
            "cell_type": "markdown",
            "source": [
                "---\r\n",
                "### For loops: Looping through arrays"
            ],
            "metadata": {
                "azdata_cell_guid": "deca51b5-b04a-4f0b-a09c-c0e0a418257e"
            }
        },
        {
            "cell_type": "code",
            "source": [
                "DO $$ \r\n",
                "DECLARE i INT;\r\n",
                "BEGIN\r\n",
                "   FOREACH i IN ARRAY ARRAY[11,22,33] LOOP\r\n",
                "      RAISE NOTICE 'In a loop, value %', i;\r\n",
                "   END LOOP; \r\n",
                "RAISE NOTICE 'Finally out!';   \r\n",
                "END $$"
            ],
            "metadata": {
                "azdata_cell_guid": "22721075-0026-4c50-bd3e-b9fc596c15f7",
                "tags": [
                    "hide_input"
                ]
            },
            "outputs": [],
            "execution_count": 13
        }
    ]
}