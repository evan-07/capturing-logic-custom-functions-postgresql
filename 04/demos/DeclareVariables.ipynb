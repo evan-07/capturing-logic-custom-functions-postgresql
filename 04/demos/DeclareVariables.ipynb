{
    "metadata": {
        "kernelspec": {
            "name": "SQL",
            "display_name": "SQL",
            "language": "sql"
        },
        "language_info": {
            "name": "sql",
            "version": ""
        }
    },
    "nbformat_minor": 2,
    "nbformat": 4,
    "cells": [
        {
            "cell_type": "markdown",
            "source": [
                "## Declaring Variables"
            ],
            "metadata": {
                "azdata_cell_guid": "27ef1937-ee02-4129-b1c5-de9b31250f1d"
            }
        },
        {
            "cell_type": "code",
            "source": [
                "DO LANGUAGE plpgsql $$\r\n",
                "-- name [ CONSTANT ] type [ COLLATE collation_name ] [ NOT NULL ] [ { DEFAULT | := | = } expression ];\r\n",
                "DECLARE\r\n",
                "    myint           INTEGER NOT NULL = 0;\r\n",
                "    the_answer      NUMERIC(2) := 42;\r\n",
                "    phi CONSTANT    DOUBLE PRECISION DEFAULT (1+ |/5)/2;\r\n",
                "    cust_row        customers%ROWTYPE;\r\n",
                "    cust_firstname  customers.firstname%TYPE;\r\n",
                "    myrow           RECORD;\r\n",
                "BEGIN\r\n",
                "    myint := -1; -- myint = -1\r\n",
                "    SELECT * FROM customers      INTO cust_row LIMIT 1;\r\n",
                "    SELECT cust_row.firstname    INTO cust_firstname LIMIT 1;\r\n",
                "    SELECT 42::INT AS the_answer INTO myrow;\r\n",
                "    RAISE NOTICE 'Last Name: %; First Name: %; How young? %', \r\n",
                "        cust_row.lastname, cust_firstname, myrow.the_answer;\r\n",
                "END;\r\n",
                "$$"
            ],
            "metadata": {
                "azdata_cell_guid": "8a5af505-4a32-4f6f-b229-c35b5d3f4083",
                "tags": [],
                "language": "sql"
            },
            "outputs": [],
            "execution_count": 1
        }
    ]
}