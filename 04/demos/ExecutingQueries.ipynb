{
    "metadata": {
        "kernelspec": {
            "name": "SQL",
            "display_name": "SQL",
            "language": "sql"
        },
        "language_info": {
            "name": "sql",
            "version": ""
        }
    },
    "nbformat_minor": 2,
    "nbformat": 4,
    "cells": [
        {
            "cell_type": "markdown",
            "source": [
                "## Executing queries in PL/pgSQL"
            ],
            "metadata": {
                "azdata_cell_guid": "db1f4473-fdf4-4efb-bfff-c09330629afb"
            }
        },
        {
            "cell_type": "markdown",
            "source": [
                "---\r\n",
                "### Why does this fail?"
            ],
            "metadata": {
                "azdata_cell_guid": "884883d1-5089-49d5-b93a-3fea3d9f250d"
            }
        },
        {
            "cell_type": "code",
            "source": [
                "CREATE OR REPLACE FUNCTION foo() RETURNS TABLE (the_answer int)\r\n",
                "LANGUAGE plpgsql AS $$\r\n",
                "BEGIN\r\n",
                "RETURN QUERY\r\n",
                "    SELECT 42 as \"The Answer\";\r\n",
                "END;    \r\n",
                "$$;\r\n",
                "\r\n",
                "SELECT * from foo();"
            ],
            "metadata": {
                "azdata_cell_guid": "d01bbd76-daab-4653-ba3d-05d7bf941f97",
                "tags": [],
                "language": "sql"
            },
            "outputs": [
                {
                    "output_type": "display_data",
                    "data": {
                        "text/html": "CREATE FUNCTION"
                    },
                    "metadata": {}
                },
                {
                    "output_type": "display_data",
                    "data": {
                        "text/html": "(1 row(s) affected)"
                    },
                    "metadata": {}
                },
                {
                    "output_type": "display_data",
                    "data": {
                        "text/html": "Total execution time: 00:00:00.029"
                    },
                    "metadata": {}
                },
                {
                    "output_type": "execute_result",
                    "metadata": {},
                    "execution_count": 4,
                    "data": {
                        "application/vnd.dataresource+json": {
                            "schema": {
                                "fields": [
                                    {
                                        "name": "the_answer"
                                    }
                                ]
                            },
                            "data": [
                                {
                                    "the_answer": "42"
                                }
                            ]
                        },
                        "text/html": [
                            "<table>",
                            "<tr><th>the_answer</th></tr>",
                            "<tr><td>42</td></tr>",
                            "</table>"
                        ]
                    }
                }
            ],
            "execution_count": 4
        },
        {
            "cell_type": "markdown",
            "source": [
                "---\r\n",
                "### This works!"
            ],
            "metadata": {
                "azdata_cell_guid": "fea6bfe9-1574-431c-9a09-dfddb16c771a"
            }
        },
        {
            "cell_type": "code",
            "source": [
                "CREATE OR REPLACE FUNCTION foo() RETURNS TABLE (the_answer int)\r\n",
                "LANGUAGE plpgsql AS $$\r\n",
                "BEGIN\r\n",
                "    PERFORM 42 as \"The Answer\";\r\n",
                "END;    \r\n",
                "$$;\r\n",
                "\r\n",
                "SELECT foo();"
            ],
            "metadata": {
                "azdata_cell_guid": "f7885a8c-d184-4622-9c06-dea94e610af2",
                "tags": [],
                "language": "sql"
            },
            "outputs": [
                {
                    "output_type": "display_data",
                    "data": {
                        "text/html": "CREATE FUNCTION"
                    },
                    "metadata": {}
                },
                {
                    "output_type": "display_data",
                    "data": {
                        "text/html": "(0 row(s) affected)"
                    },
                    "metadata": {}
                },
                {
                    "output_type": "display_data",
                    "data": {
                        "text/html": "Total execution time: 00:00:00.015"
                    },
                    "metadata": {}
                },
                {
                    "output_type": "execute_result",
                    "metadata": {},
                    "execution_count": 5,
                    "data": {
                        "application/vnd.dataresource+json": {
                            "schema": {
                                "fields": [
                                    {
                                        "name": "foo"
                                    }
                                ]
                            },
                            "data": []
                        },
                        "text/html": [
                            "<table>",
                            "<tr><th>foo</th></tr>",
                            "</table>"
                        ]
                    }
                }
            ],
            "execution_count": 5
        },
        {
            "cell_type": "markdown",
            "source": [
                "---\r\n",
                "### Returning that value"
            ],
            "metadata": {
                "azdata_cell_guid": "09e12cde-a723-4858-a455-73149076c431"
            }
        },
        {
            "cell_type": "code",
            "source": [
                "CREATE OR REPLACE FUNCTION bar(OUT a INT)\r\n",
                "LANGUAGE plpgsql AS $$\r\n",
                "BEGIN\r\n",
                "    SELECT 42 AS \"The Answer\" INTO bar.a;\r\n",
                "END;    \r\n",
                "$$;\r\n",
                "\r\n",
                "SELECT bar();"
            ],
            "metadata": {
                "azdata_cell_guid": "c2e62535-5872-451e-969f-e6737dc3231f",
                "tags": [],
                "language": "sql"
            },
            "outputs": [
                {
                    "output_type": "display_data",
                    "data": {
                        "text/html": "CREATE FUNCTION"
                    },
                    "metadata": {}
                },
                {
                    "output_type": "display_data",
                    "data": {
                        "text/html": "(1 row(s) affected)"
                    },
                    "metadata": {}
                },
                {
                    "output_type": "display_data",
                    "data": {
                        "text/html": "Total execution time: 00:00:00.030"
                    },
                    "metadata": {}
                },
                {
                    "output_type": "execute_result",
                    "metadata": {},
                    "execution_count": 6,
                    "data": {
                        "application/vnd.dataresource+json": {
                            "schema": {
                                "fields": [
                                    {
                                        "name": "bar"
                                    }
                                ]
                            },
                            "data": [
                                {
                                    "bar": "42"
                                }
                            ]
                        },
                        "text/html": [
                            "<table>",
                            "<tr><th>bar</th></tr>",
                            "<tr><td>42</td></tr>",
                            "</table>"
                        ]
                    }
                }
            ],
            "execution_count": 6
        },
        {
            "cell_type": "markdown",
            "source": [
                "---\r\n",
                "### INTO clause\r\n",
                "    SELECT select_expressions INTO [STRICT] target FROM ...;\r\n",
                "    INSERT ... RETURNING expressions INTO [STRICT] target;\r\n",
                "    UPDATE ... RETURNING expressions INTO [STRICT] target;\r\n",
                "    DELETE ... RETURNING expressions INTO [STRICT] target;"
            ],
            "metadata": {
                "azdata_cell_guid": "e7caa7da-31d7-4181-bfc0-263608f5b770"
            }
        },
        {
            "cell_type": "code",
            "source": [
                "DO $$\r\n",
                "DECLARE \r\n",
                "    the_answer INT;\r\n",
                "    cust_row customers%ROWTYPE;\r\n",
                "    firstname VARCHAR;\r\n",
                "    lastname VARCHAR;\r\n",
                "    new_cat INT;\r\n",
                "    old_catname VARCHAR;\r\n",
                "BEGIN\r\n",
                "    SELECT 42 INTO the_answer;\r\n",
                "    SELECT * INTO cust_row FROM customers c \r\n",
                "        WHERE c.customerid = 42;\r\n",
                "    SELECT c.firstname, c.lastname INTO firstname, lastname\r\n",
                "        FROM customers c \r\n",
                "        WHERE c.customerid = 42;\r\n",
                "    INSERT INTO categories (categoryname) \r\n",
                "        VALUES ('MyCategory')\r\n",
                "        RETURNING category INTO new_cat;\r\n",
                "    DELETE FROM categories \r\n",
                "        WHERE category = new_cat\r\n",
                "        RETURNING categoryname INTO old_catname;  \r\n",
                "    RAISE NOTICE 'id: %, name: %', new_cat, old_catname; \r\n",
                "END       \r\n",
                "$$"
            ],
            "metadata": {
                "azdata_cell_guid": "f10949e9-fcbe-418a-a3b3-f22a6c8ad515",
                "tags": [],
                "language": "sql"
            },
            "outputs": [
                {
                    "output_type": "display_data",
                    "data": {
                        "text/html": "NOTICE: id: 17, name: MyCategory"
                    },
                    "metadata": {}
                },
                {
                    "output_type": "display_data",
                    "data": {
                        "text/html": "DO"
                    },
                    "metadata": {}
                },
                {
                    "output_type": "display_data",
                    "data": {
                        "text/html": "Total execution time: 00:00:00.058"
                    },
                    "metadata": {}
                }
            ],
            "execution_count": 7
        },
        {
            "cell_type": "code",
            "source": [
                "CREATE OR REPLACE FUNCTION foo() RETURNS TABLE (firstname varchar)\r\n",
                "LANGUAGE plpgsql AS $$\r\n",
                "BEGIN\r\n",
                "RETURN QUERY\r\n",
                "    UPDATE customers c\r\n",
                "        SET firstname = c.firstname\r\n",
                "        WHERE c.customerid = 42\r\n",
                "    RETURNING c.firstname;\r\n",
                "END;\r\n",
                "$$;\r\n",
                "\r\n",
                "SELECT foo();\r\n",
                "DO $$ BEGIN PERFORM foo(); END; $$;"
            ],
            "metadata": {
                "azdata_cell_guid": "bf9f8ac1-b17a-41ab-b797-534c817ca2f9",
                "tags": [],
                "language": "sql"
            },
            "outputs": [
                {
                    "output_type": "error",
                    "evalue": "cannot change return type of existing function",
                    "ename": "",
                    "traceback": []
                },
                {
                    "output_type": "display_data",
                    "data": {
                        "text/html": "Total execution time: 00:00:00.005"
                    },
                    "metadata": {}
                }
            ],
            "execution_count": 8
        },
        {
            "cell_type": "code",
            "source": [
                "DROP FUNCTION IF EXISTS foo();\r\n",
                "DROP FUNCTION IF EXISTS bar(OUT a INT);"
            ],
            "metadata": {
                "azdata_cell_guid": "2cba5d62-7a10-48bb-9b62-88f0f6ca5caf",
                "tags": [],
                "language": "sql"
            },
            "outputs": [
                {
                    "output_type": "display_data",
                    "data": {
                        "text/html": "DROP FUNCTION"
                    },
                    "metadata": {}
                },
                {
                    "output_type": "display_data",
                    "data": {
                        "text/html": "DROP FUNCTION"
                    },
                    "metadata": {}
                },
                {
                    "output_type": "display_data",
                    "data": {
                        "text/html": "Total execution time: 00:00:00.020"
                    },
                    "metadata": {}
                }
            ],
            "execution_count": 9
        }
    ]
}