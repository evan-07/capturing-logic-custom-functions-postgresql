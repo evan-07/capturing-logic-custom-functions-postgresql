{
    "metadata": {
        "kernelspec": {
            "name": "SQL",
            "display_name": "SQL",
            "language": "sql"
        },
        "language_info": {
            "name": "sql",
            "version": ""
        }
    },
    "nbformat_minor": 2,
    "nbformat": 4,
    "cells": [
        {
            "cell_type": "markdown",
            "source": [
                "## Control Structures"
            ],
            "metadata": {
                "azdata_cell_guid": "ba8fe041-a628-4712-9762-be3ca20a29a3"
            }
        },
        {
            "cell_type": "markdown",
            "source": [
                "---\r\n",
                "### Returning values: Scalar results"
            ],
            "metadata": {
                "azdata_cell_guid": "c2a733b2-1794-4f4c-bb06-e1c20ccbcba6"
            }
        },
        {
            "cell_type": "code",
            "source": [
                "CREATE OR REPLACE FUNCTION foo() RETURNS INT\r\n",
                "LANGUAGE plpgsql AS $$\r\n",
                "BEGIN\r\n",
                "    RETURN 42; -- any scalar expression\r\n",
                "END;\r\n",
                "$$;\r\n",
                "\r\n",
                "SELECT foo();"
            ],
            "metadata": {
                "azdata_cell_guid": "1053ceef-f4d3-4b40-8587-c52cf752669c",
                "tags": [],
                "language": "sql"
            },
            "outputs": [],
            "execution_count": 15
        },
        {
            "cell_type": "code",
            "source": [
                "CREATE OR REPLACE FUNCTION foo(OUT i INT) --RETURNS INT\r\n",
                "LANGUAGE plpgsql AS $$\r\n",
                "BEGIN\r\n",
                "    i = 42\r\n",
                "    RETURN; --i;\r\n",
                "END;\r\n",
                "$$;\r\n",
                "\r\n",
                "SELECT foo();"
            ],
            "metadata": {
                "azdata_cell_guid": "9abcd597-5062-4d4c-8a39-4fa990e14344",
                "tags": [],
                "language": "sql"
            },
            "outputs": [],
            "execution_count": 16
        },
        {
            "cell_type": "markdown",
            "source": [
                "---\r\n",
                "### Returning a result set: RETURN QUERY and RETURN NEXT"
            ],
            "metadata": {
                "azdata_cell_guid": "838fae06-0770-4128-95e4-e6dd0ac67944"
            }
        },
        {
            "cell_type": "code",
            "source": [
                "DROP FUNCTION IF EXISTS foo(OUT i INT);\r\n",
                "CREATE OR REPLACE FUNCTION foo() RETURNS SETOF INT\r\n",
                "LANGUAGE plpgsql AS $$\r\n",
                "BEGIN\r\n",
                "    RETURN NEXT 42;\r\n",
                "    RETURN NEXT 43;\r\n",
                "END;\r\n",
                "$$;\r\n",
                "\r\n",
                "SELECT * FROM foo();"
            ],
            "metadata": {
                "azdata_cell_guid": "8f69f8ae-b09d-4177-8632-e4ca429c356f",
                "tags": [],
                "language": "sql"
            },
            "outputs": [
                {
                    "output_type": "display_data",
                    "data": {
                        "text/html": "NOTICE: function foo() does not exist, skipping"
                    },
                    "metadata": {}
                },
                {
                    "output_type": "display_data",
                    "data": {
                        "text/html": "DROP FUNCTION"
                    },
                    "metadata": {}
                },
                {
                    "output_type": "display_data",
                    "data": {
                        "text/html": "CREATE FUNCTION"
                    },
                    "metadata": {}
                },
                {
                    "output_type": "display_data",
                    "data": {
                        "text/html": "(2 row(s) affected)"
                    },
                    "metadata": {}
                },
                {
                    "output_type": "display_data",
                    "data": {
                        "text/html": "Total execution time: 00:00:00.259"
                    },
                    "metadata": {}
                },
                {
                    "output_type": "execute_result",
                    "metadata": {},
                    "execution_count": 1,
                    "data": {
                        "application/vnd.dataresource+json": {
                            "schema": {
                                "fields": [
                                    {
                                        "name": "foo"
                                    }
                                ]
                            },
                            "data": [
                                {
                                    "foo": "42"
                                },
                                {
                                    "foo": "43"
                                }
                            ]
                        },
                        "text/html": [
                            "<table>",
                            "<tr><th>foo</th></tr>",
                            "<tr><td>42</td></tr>",
                            "<tr><td>43</td></tr>",
                            "</table>"
                        ]
                    }
                }
            ],
            "execution_count": 1
        },
        {
            "cell_type": "markdown",
            "source": [
                "---\r\n",
                "### Returning a set of a table type"
            ],
            "metadata": {
                "azdata_cell_guid": "d01a147d-6829-4796-864d-c814b86508c5"
            }
        },
        {
            "cell_type": "code",
            "source": [
                "CREATE OR REPLACE FUNCTION get_cat() \r\n",
                "    RETURNS SETOF categories\r\n",
                "    -- RETURNS TABLE (category INT, categoryname VARCHAR)\r\n",
                "LANGUAGE plpgsql AS $$\r\n",
                "DECLARE\r\n",
                "    cat categories%ROWTYPE;\r\n",
                "BEGIN\r\n",
                "    cat.category := 1; cat.categoryname := 'One';\r\n",
                "    RETURN NEXT cat;\r\n",
                "    cat.category := 2; cat.categoryname := 'Two';\r\n",
                "    RETURN NEXT cat;\r\n",
                "END;\r\n",
                "$$;\r\n",
                "\r\n",
                "SELECT * FROM get_cat();;"
            ],
            "metadata": {
                "azdata_cell_guid": "712f5750-74b9-4aef-aba5-534228e41afc",
                "tags": [],
                "language": "sql"
            },
            "outputs": [],
            "execution_count": 18
        },
        {
            "cell_type": "markdown",
            "source": [
                "---\r\n",
                "## Conditional execution: IF statement\r\n",
                "    IF ... THEN ... END IF\r\n",
                "    IF ... THEN ... ELSE ... END IF\r\n",
                "    IF ... THEN ... ELSIF ... THEN ... ELSE ... END IF\r\n",
                ""
            ],
            "metadata": {
                "azdata_cell_guid": "d20bdcc7-b7a4-48c8-8aed-9556c5620cf8"
            }
        },
        {
            "cell_type": "code",
            "source": [
                "DO $$ BEGIN\r\n",
                "    IF true THEN\r\n",
                "        RAISE NOTICE 'True!';\r\n",
                "    ELSE \r\n",
                "        RAISE NOTICE 'False!';\r\n",
                "    END IF;\r\n",
                "END\r\n",
                "$$    "
            ],
            "metadata": {
                "azdata_cell_guid": "908f28f8-7f61-4c2c-81fb-d7fee6e94adc",
                "tags": [],
                "language": "sql"
            },
            "outputs": [],
            "execution_count": 19
        },
        {
            "cell_type": "code",
            "source": [
                "DO $$ BEGIN\r\n",
                "    IF 1 < 0 THEN\r\n",
                "        RAISE NOTICE 'One is less than zero?';\r\n",
                "    ELSIF 1 > 0 THEN\r\n",
                "        RAISE NOTICE 'One is greater than zero!';\r\n",
                "    ELSE \r\n",
                "        RAISE NOTICE 'How did I get here?'; \r\n",
                "    END IF;\r\n",
                "END\r\n",
                "$$    "
            ],
            "metadata": {
                "azdata_cell_guid": "9ff6c765-000c-41ff-bdfc-1df4025f9394",
                "tags": [
                    "hide_input"
                ],
                "language": "sql"
            },
            "outputs": [],
            "execution_count": 20
        },
        {
            "cell_type": "markdown",
            "source": [
                "---\r\n",
                "### Conditional execution: Simple CASE statement\r\n",
                "    CASE search-expression\r\n",
                "        WHEN expression [, expression [ ... ]] THEN\r\n",
                "          statements\r\n",
                "      [ WHEN expression [, expression [ ... ]] THEN\r\n",
                "          statements\r\n",
                "        ... ]\r\n",
                "      [ ELSE\r\n",
                "          statements ]\r\n",
                "    END CASE;"
            ],
            "metadata": {
                "azdata_cell_guid": "e3f77b8f-c0b6-4b27-a8bf-73f7f1371bb9"
            }
        },
        {
            "cell_type": "code",
            "source": [
                "DO $$ BEGIN\r\n",
                "    CASE 42\r\n",
                "        WHEN 41, 43 THEN\r\n",
                "            RAISE NOTICE 'Odd.';\r\n",
                "        WHEN 40, 42 THEN\r\n",
                "            RAISE NOTICE 'Even.';\r\n",
                "    END CASE;    \r\n",
                "END; $$;"
            ],
            "metadata": {
                "azdata_cell_guid": "45449498-eea7-4913-8c71-5a8a8c59b12e",
                "tags": [
                    "hide_input"
                ],
                "language": "sql"
            },
            "outputs": [],
            "execution_count": 21
        },
        {
            "cell_type": "markdown",
            "source": [
                "* * *\n",
                "\n",
                "### Conditional execution: Searched CASE statement\n",
                "\n",
                "```\n",
                "CASE\n",
                "  WHEN boolean-expression THEN\n",
                "    statements\n",
                "  [ WHEN boolean-expression THEN\n",
                "    statements\n",
                "  ... ]\n",
                "  [ ELSE\n",
                "    statements ]\n",
                "END CASE;\n",
                "\n",
                "```"
            ],
            "metadata": {
                "azdata_cell_guid": "0fc83d99-2828-46d0-8fc5-815f8e39ca8d"
            },
            "attachments": {}
        },
        {
            "cell_type": "code",
            "source": [
                "DO $$ BEGIN\r\n",
                "    CASE \r\n",
                "        WHEN 42 IN (41, 43) THEN\r\n",
                "            RAISE NOTICE 'Odd.';\r\n",
                "        WHEN 42 IN (40, 42) THEN\r\n",
                "            RAISE NOTICE 'Even.';\r\n",
                "    END CASE;    \r\n",
                "END; $$;"
            ],
            "metadata": {
                "azdata_cell_guid": "518f0fed-6c9f-424d-9348-1fa995a2640c",
                "tags": [
                    "hide_input"
                ],
                "language": "sql"
            },
            "outputs": [],
            "execution_count": 22
        },
        {
            "cell_type": "markdown",
            "source": [
                "---\r\n",
                "### Clean up"
            ],
            "metadata": {
                "azdata_cell_guid": "5c0ed694-356e-46c0-8799-6e22644a3c7c"
            }
        },
        {
            "cell_type": "code",
            "source": [
                "DROP FUNCTION IF EXISTS foo();\r\n",
                "DROP FUNCTION IF EXISTS foo(OUT i INT);\r\n",
                "DROP FUNCTION IF EXISTS get_cat();"
            ],
            "metadata": {
                "azdata_cell_guid": "e3509a80-7d65-4b18-820d-c892a857bda8",
                "tags": [
                    "hide_input"
                ],
                "language": "sql"
            },
            "outputs": [
                {
                    "output_type": "display_data",
                    "data": {
                        "text/html": "DROP FUNCTION"
                    },
                    "metadata": {}
                },
                {
                    "output_type": "display_data",
                    "data": {
                        "text/html": "NOTICE: function foo() does not exist, skipping"
                    },
                    "metadata": {}
                },
                {
                    "output_type": "display_data",
                    "data": {
                        "text/html": "DROP FUNCTION"
                    },
                    "metadata": {}
                },
                {
                    "output_type": "display_data",
                    "data": {
                        "text/html": "NOTICE: function get_cat() does not exist, skipping"
                    },
                    "metadata": {}
                },
                {
                    "output_type": "display_data",
                    "data": {
                        "text/html": "DROP FUNCTION"
                    },
                    "metadata": {}
                },
                {
                    "output_type": "display_data",
                    "data": {
                        "text/html": "Total execution time: 00:00:00.025"
                    },
                    "metadata": {}
                }
            ],
            "execution_count": 2
        }
    ]
}