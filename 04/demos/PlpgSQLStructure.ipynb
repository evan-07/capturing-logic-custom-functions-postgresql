{
    "metadata": {
        "kernelspec": {
            "name": "SQL",
            "display_name": "SQL",
            "language": "sql"
        },
        "language_info": {
            "name": "sql",
            "version": ""
        }
    },
    "nbformat_minor": 2,
    "nbformat": 4,
    "cells": [
        {
            "cell_type": "markdown",
            "source": [
                "## Structure of a PL/pgSQL program"
            ],
            "metadata": {
                "azdata_cell_guid": "9025b571-80bb-4ecd-b07f-04e82340b1f3"
            }
        },
        {
            "cell_type": "markdown",
            "source": [
                "___\r\n",
                "### Returning a table using the SQL language"
            ],
            "metadata": {
                "azdata_cell_guid": "ec80bddd-cd90-4a8f-8a6f-6af804e19be3"
            }
        },
        {
            "cell_type": "code",
            "source": [
                "CREATE OR REPLACE FUNCTION get_cust_names(id1 INT, id2 INT)\r\n",
                "    RETURNS TABLE (firstname VARCHAR, lastname VARCHAR)\r\n",
                "AS $$\r\n",
                "    SELECT c.firstname, c.lastname FROM customers c\r\n",
                "    WHERE  c.customerid BETWEEN id1 AND id2;\r\n",
                "$$ LANGUAGE SQL;"
            ],
            "metadata": {
                "azdata_cell_guid": "26f6f4a6-3bdb-4524-b8e6-92dc81d1e7bf",
                "tags": [
                    "hide_input"
                ],
                "language": "sql"
            },
            "outputs": [],
            "execution_count": 25
        },
        {
            "cell_type": "markdown",
            "source": [
                "---\r\n",
                "### Returning a table using the PL/pgSQL language"
            ],
            "metadata": {
                "azdata_cell_guid": "45237742-6ca1-4766-98ee-a9473d2390b7"
            }
        },
        {
            "cell_type": "code",
            "source": [
                "CREATE OR REPLACE FUNCTION get_cust_names(id1 INT, id2 INT)\r\n",
                "    RETURNS TABLE (firstname VARCHAR, lastname VARCHAR)\r\n",
                "AS $$ \r\n",
                "BEGIN\r\n",
                "    RETURN QUERY\r\n",
                "        SELECT c.firstname, c.lastname FROM customers c\r\n",
                "        WHERE  c.customerid BETWEEN id1 AND id2;\r\n",
                "END;    \r\n",
                "$$ LANGUAGE plpgsql;"
            ],
            "metadata": {
                "azdata_cell_guid": "43c96665-869e-4fb4-a6d8-8883bcc6d269",
                "tags": [
                    "hide_input"
                ],
                "language": "sql"
            },
            "outputs": [],
            "execution_count": 6
        },
        {
            "cell_type": "code",
            "source": [
                "SELECT * FROM get_cust_names(5, 10);"
            ],
            "metadata": {
                "azdata_cell_guid": "523f8674-10c6-4176-99ec-bbbe721cd9ec",
                "tags": [
                    "hide_input"
                ],
                "language": "sql"
            },
            "outputs": [],
            "execution_count": 7
        },
        {
            "cell_type": "markdown",
            "source": [
                "---\r\n",
                "### PL/pgSQL program structure\r\n",
                "```SQL\r\n",
                "[ <<label>> ]\r\n",
                "[ DECLARE\r\n",
                "    declarations ]\r\n",
                "BEGIN\r\n",
                "    statements\r\n",
                "END [ label ];\r\n",
                "```"
            ],
            "metadata": {
                "azdata_cell_guid": "b95e9200-910e-4928-81a5-6cb32c590ee3"
            }
        },
        {
            "cell_type": "code",
            "source": [
                "DO $$ BEGIN NULL; END; $$"
            ],
            "metadata": {
                "azdata_cell_guid": "92dba610-ec1a-43d6-92f2-2170bedaeaa0",
                "tags": [
                    "hide_input"
                ],
                "language": "sql"
            },
            "outputs": [],
            "execution_count": 9
        },
        {
            "cell_type": "code",
            "source": [
                "DO LANGUAGE plpgsql $$\r\n",
                "    <<get_ans>> --label\r\n",
                "    DECLARE\r\n",
                "        the_answer INT := 42;\r\n",
                "    BEGIN\r\n",
                "        RAISE NOTICE 'The answer is %.', get_ans.the_answer;        \r\n",
                "    END get_ans;\r\n",
                "$$    "
            ],
            "metadata": {
                "azdata_cell_guid": "d1ca1144-cfe7-46e9-9262-e5c794143e82",
                "tags": [],
                "language": "sql"
            },
            "outputs": [],
            "execution_count": 10
        },
        {
            "cell_type": "markdown",
            "source": [
                "---\r\n",
                "### Clean up"
            ],
            "metadata": {
                "azdata_cell_guid": "a4e95eed-9f20-4f67-83d6-5881e592234e"
            }
        },
        {
            "cell_type": "code",
            "source": [
                "DROP FUNCTION IF EXISTS get_cust_names(INT, INT);"
            ],
            "metadata": {
                "azdata_cell_guid": "f1ae9939-897d-4be8-940d-c108e68ae20a",
                "tags": [
                    "hide_input"
                ],
                "language": "sql"
            },
            "outputs": [],
            "execution_count": 11
        }
    ]
}