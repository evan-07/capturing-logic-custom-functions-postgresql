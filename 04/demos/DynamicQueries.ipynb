{
    "metadata": {
        "kernelspec": {
            "name": "SQL",
            "display_name": "SQL",
            "language": "sql"
        },
        "language_info": {
            "name": "sql",
            "version": ""
        }
    },
    "nbformat_minor": 2,
    "nbformat": 4,
    "cells": [
        {
            "cell_type": "markdown",
            "source": [
                "## Dynamic Queries"
            ],
            "metadata": {
                "azdata_cell_guid": "5632a4e6-d747-4a79-a8c4-8bb81f929934"
            }
        },
        {
            "cell_type": "code",
            "source": [
                "DO $$\r\n",
                "DECLARE i INT;\r\n",
                "BEGIN\r\n",
                "    EXECUTE 'SELECT 42 UNION SELECT 43' INTO STRICT i;\r\n",
                "    RAISE NOTICE 'i = %', i;\r\n",
                "END $$"
            ],
            "metadata": {
                "azdata_cell_guid": "cdd10bcd-e3c9-410e-b5d5-9066296f1e5b",
                "tags": [
                    "hide_input"
                ]
            },
            "outputs": [],
            "execution_count": 27
        },
        {
            "cell_type": "markdown",
            "source": [
                "---\r\n",
                "### Dynamic table names and quote_ident function"
            ],
            "metadata": {
                "azdata_cell_guid": "840876b3-9ce2-4485-bc8b-b8bfb8e8e854"
            }
        },
        {
            "cell_type": "code",
            "source": [
                "DO $$\r\n",
                "DECLARE \r\n",
                "    tablename NAME;\r\n",
                "    tablenames NAME[] = ARRAY['customers', 'orders'];\r\n",
                "    rc BIGINT;\r\n",
                "BEGIN\r\n",
                "    tablename = tablenames[1 + RANDOM()];\r\n",
                "    -- SELECT COUNT(*) from tablename INTO rc;\r\n",
                "    EXECUTE 'SELECT COUNT(*) FROM ' || quote_ident(tablename) INTO rc;\r\n",
                "    RAISE NOTICE '% has % rows', tablename, rc;\r\n",
                "END $$"
            ],
            "metadata": {
                "azdata_cell_guid": "13db07f5-e65f-4167-9d33-31929bfe346d",
                "tags": [
                    "hide_input"
                ]
            },
            "outputs": [],
            "execution_count": 33
        },
        {
            "cell_type": "markdown",
            "source": [
                "---\r\n",
                "### Quoting literals with quote_literal and quote_nullable"
            ],
            "metadata": {
                "azdata_cell_guid": "98dc5d7c-7c9a-4f08-9a6e-4b1675bd95af"
            }
        },
        {
            "cell_type": "code",
            "source": [
                "DO $$\r\n",
                "DECLARE \r\n",
                "    firstname VARCHAR;\r\n",
                "    firstnames VARCHAR[] = ARRAY['A', 'B'];\r\n",
                "    tbl_name NAME = 'customers';\r\n",
                "    col_name NAME = 'firstname';\r\n",
                "    rc BIGINT;\r\n",
                "BEGIN\r\n",
                "    firstname = firstnames[1+RANDOM()];\r\n",
                "    EXECUTE \r\n",
                "        'SELECT COUNT(*) FROM '\r\n",
                "        || quote_ident(tbl_name)\r\n",
                "        || ' WHERE '\r\n",
                "        || quote_ident(col_name) \r\n",
                "        || ' LIKE ' \r\n",
                "        || quote_literal(firstname || '%') INTO rc;\r\n",
                "\r\n",
                "    RAISE NOTICE '% firstnames start with \"%\"', rc, firstname;\r\n",
                "END $$"
            ],
            "metadata": {
                "azdata_cell_guid": "1e0cab39-40b5-4bca-8880-75bf3a4f9e2d",
                "tags": [
                    "hide_input"
                ]
            },
            "outputs": [],
            "execution_count": 40
        },
        {
            "cell_type": "code",
            "source": [
                "SELECT \r\n",
                "    lastname, \r\n",
                "    'quoted:' || quote_literal(lastname), \r\n",
                "    'nullable:' || quote_nullable(lastname) \r\n",
                "FROM\r\n",
                "    (SELECT 'O''Neil' AS lastname UNION SELECT NULL) s"
            ],
            "metadata": {
                "azdata_cell_guid": "3399b7e2-5860-453e-a111-d6b3c2216f12",
                "tags": [
                    "hide_input"
                ]
            },
            "outputs": [],
            "execution_count": 41
        },
        {
            "cell_type": "markdown",
            "source": [
                "---\r\n",
                "### SQL injection and the USING clause"
            ],
            "metadata": {
                "azdata_cell_guid": "ed3379b1-9623-4c47-9cd3-93056cc1ea92"
            }
        },
        {
            "cell_type": "code",
            "source": [
                "DROP TABLE IF EXISTS foo;\r\n",
                "CREATE TABLE foo (a INT);\r\n",
                "DO $$\r\n",
                "DECLARE \r\n",
                "    baddata VARCHAR = '0;DROP TABLE IF EXISTS foo;';\r\n",
                "BEGIN\r\n",
                "    EXECUTE \r\n",
                "        'SELECT count(*) FROM orders where orderid ='\r\n",
                "        || baddata;\r\n",
                "END $$;\r\n",
                "SELECT * from information_schema.tables where table_name = 'foo';   "
            ],
            "metadata": {
                "azdata_cell_guid": "7d69de99-4b51-4f92-9220-810cb8f6f002",
                "tags": [
                    "hide_input"
                ]
            },
            "outputs": [],
            "execution_count": 42
        },
        {
            "cell_type": "code",
            "source": [
                "DO $$\r\n",
                "DECLARE \r\n",
                "    firstname VARCHAR;\r\n",
                "    firstnames VARCHAR[] = ARRAY['A', 'B'];\r\n",
                "    tbl_name NAME = 'customers';\r\n",
                "    col_name NAME = 'firstname';\r\n",
                "    rc BIGINT;\r\n",
                "BEGIN\r\n",
                "    firstname = firstnames[1+RANDOM()];\r\n",
                "    EXECUTE \r\n",
                "        'SELECT COUNT(*) FROM '\r\n",
                "        || quote_ident(tbl_name)\r\n",
                "        || ' WHERE '\r\n",
                "        || quote_ident(col_name) \r\n",
                "        || ' LIKE $1' \r\n",
                "        INTO rc\r\n",
                "        USING firstname || '%';\r\n",
                "\r\n",
                "    RAISE NOTICE '% firstnames start with \"%\"', rc, firstname;\r\n",
                "END $$"
            ],
            "metadata": {
                "azdata_cell_guid": "804d22a4-8b2b-4821-95d0-f7548e6c47d4",
                "tags": [
                    "hide_input"
                ]
            },
            "outputs": [],
            "execution_count": 45
        },
        {
            "cell_type": "code",
            "source": [
                "DO $$\r\n",
                "DECLARE \r\n",
                "    firstname VARCHAR;\r\n",
                "    firstnames VARCHAR[] = ARRAY['A', 'B'];\r\n",
                "    tbl_name NAME = 'customers';\r\n",
                "    col_name NAME = 'firstname';\r\n",
                "    rc BIGINT;\r\n",
                "BEGIN\r\n",
                "    firstname = firstnames[1+RANDOM()];\r\n",
                "    EXECUTE \r\n",
                "        format(\r\n",
                "            'SELECT COUNT(*) FROM %I WHERE %I LIKE $1', \r\n",
                "            tbl_name, \r\n",
                "            col_name)\r\n",
                "        INTO rc\r\n",
                "        USING firstname || '%';\r\n",
                "\r\n",
                "    RAISE NOTICE '% firstnames start with \"%\"', rc, firstname;\r\n",
                "END $$"
            ],
            "metadata": {
                "azdata_cell_guid": "6b1f3f98-dd8d-480a-b7c9-ead8c8180b85",
                "tags": [
                    "hide_input"
                ]
            },
            "outputs": [],
            "execution_count": 49
        },
        {
            "cell_type": "markdown",
            "source": [
                "---\r\n",
                "### Other uses for dynamic queries\r\n",
                "    RETURN QUERY EXECUTE command-string [ USING expression [, ... ] ];\r\n",
                "    FOR target IN EXECUTE text_expression [ USING expression [, ... ] ] LOOP...\r\n",
                "    OPEN unbound_cursorvar [ [ NO ] SCROLL ] FOR EXECUTE query_string\r\n",
                ""
            ],
            "metadata": {
                "azdata_cell_guid": "d1aec99a-9804-48fc-a253-4856cc2cc62d"
            }
        }
    ]
}