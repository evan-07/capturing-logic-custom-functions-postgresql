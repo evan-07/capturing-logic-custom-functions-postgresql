{
    "metadata": {
        "kernelspec": {
            "name": "SQL",
            "display_name": "SQL",
            "language": "sql"
        },
        "language_info": {
            "name": "sql",
            "version": ""
        }
    },
    "nbformat_minor": 2,
    "nbformat": 4,
    "cells": [
        {
            "cell_type": "markdown",
            "source": [
                "## Default Parameters and Ambiguity"
            ],
            "metadata": {
                "azdata_cell_guid": "bf245082-f6f4-48a6-baa8-101f0dc6d325"
            }
        },
        {
            "cell_type": "code",
            "source": [
                "CREATE OR REPLACE FUNCTION f(a int, b int) RETURNS INT\r\n",
                "LANGUAGE SQL AS 'SELECT 42';\r\n",
                "\r\n",
                "CREATE OR REPLACE FUNCTION f(a int, b int, c int = 42) RETURNS INT\r\n",
                "LANGUAGE SQL AS 'SELECT c';"
            ],
            "metadata": {
                "azdata_cell_guid": "8582c928-558e-4064-85c7-9904273ad419",
                "tags": [],
                "language": "sql"
            },
            "outputs": [
                {
                    "output_type": "display_data",
                    "data": {
                        "text/html": "CREATE FUNCTION"
                    },
                    "metadata": {}
                },
                {
                    "output_type": "display_data",
                    "data": {
                        "text/html": "CREATE FUNCTION"
                    },
                    "metadata": {}
                },
                {
                    "output_type": "display_data",
                    "data": {
                        "text/html": "Total execution time: 00:00:00.031"
                    },
                    "metadata": {}
                }
            ],
            "execution_count": 1
        },
        {
            "cell_type": "code",
            "source": [
                "SELECT f(1,2);"
            ],
            "metadata": {
                "azdata_cell_guid": "22bd0eaa-0720-4249-92c3-40199360728d",
                "tags": [
                    "hide_input"
                ],
                "language": "sql"
            },
            "outputs": [
                {
                    "output_type": "display_data",
                    "data": {
                        "text/html": "(1 row(s) affected)"
                    },
                    "metadata": {}
                },
                {
                    "output_type": "display_data",
                    "data": {
                        "text/html": "Total execution time: 00:00:00.065"
                    },
                    "metadata": {}
                },
                {
                    "output_type": "execute_result",
                    "metadata": {},
                    "execution_count": 4,
                    "data": {
                        "application/vnd.dataresource+json": {
                            "schema": {
                                "fields": [
                                    {
                                        "name": "f"
                                    }
                                ]
                            },
                            "data": [
                                {
                                    "f": "42"
                                }
                            ]
                        },
                        "text/html": [
                            "<table>",
                            "<tr><th>f</th></tr>",
                            "<tr><td>42</td></tr>",
                            "</table>"
                        ]
                    }
                }
            ],
            "execution_count": 4
        },
        {
            "cell_type": "markdown",
            "source": [
                "---\r\n",
                "### Clean up\r\n",
                ""
            ],
            "metadata": {
                "azdata_cell_guid": "0b9a320a-0feb-4127-972b-b792985ae6ea"
            }
        },
        {
            "cell_type": "code",
            "source": [
                "DROP FUNCTION IF EXISTS f(a int, b int);\r\n",
                "\r\n",
                "DROP FUNCTION IF EXISTS f(a integer, b integer, c integer);\r\n",
                ""
            ],
            "metadata": {
                "azdata_cell_guid": "e619f444-3286-48c0-944f-2413d71ce925",
                "tags": [],
                "language": "sql"
            },
            "outputs": [
                {
                    "output_type": "display_data",
                    "data": {
                        "text/html": "NOTICE: function f(pg_catalog.int4,pg_catalog.int4) does not exist, skipping"
                    },
                    "metadata": {}
                },
                {
                    "output_type": "display_data",
                    "data": {
                        "text/html": "DROP FUNCTION"
                    },
                    "metadata": {}
                },
                {
                    "output_type": "display_data",
                    "data": {
                        "text/html": "DROP FUNCTION"
                    },
                    "metadata": {}
                },
                {
                    "output_type": "display_data",
                    "data": {
                        "text/html": "Total execution time: 00:00:00.012"
                    },
                    "metadata": {}
                }
            ],
            "execution_count": 9
        }
    ]
}