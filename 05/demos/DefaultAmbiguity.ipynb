{
    "metadata": {
        "kernelspec": {
            "name": "SQL",
            "display_name": "SQL",
            "language": "sql"
        },
        "language_info": {
            "name": "sql",
            "version": ""
        }
    },
    "nbformat_minor": 2,
    "nbformat": 4,
    "cells": [
        {
            "cell_type": "markdown",
            "source": [
                "## Default Parameters and Ambiguity"
            ],
            "metadata": {
                "azdata_cell_guid": "bf245082-f6f4-48a6-baa8-101f0dc6d325"
            }
        },
        {
            "cell_type": "code",
            "source": [
                "CREATE OR REPLACE FUNCTION f(a int, b int) RETURNS INT\r\n",
                "LANGUAGE SQL AS 'SELECT 42';\r\n",
                "\r\n",
                "CREATE OR REPLACE FUNCTION f(a int, b int, c int = 42) RETURNS INT\r\n",
                "LANGUAGE SQL AS 'SELECT c';"
            ],
            "metadata": {
                "azdata_cell_guid": "8582c928-558e-4064-85c7-9904273ad419",
                "tags": [
                    "hide_input"
                ]
            },
            "outputs": [],
            "execution_count": 2
        },
        {
            "cell_type": "code",
            "source": [
                "SELECT f(1,2);"
            ],
            "metadata": {
                "azdata_cell_guid": "22bd0eaa-0720-4249-92c3-40199360728d",
                "tags": [
                    "hide_input"
                ]
            },
            "outputs": [],
            "execution_count": 3
        },
        {
            "cell_type": "markdown",
            "source": [
                "---\r\n",
                "### Clean up\r\n",
                ""
            ],
            "metadata": {
                "azdata_cell_guid": "0b9a320a-0feb-4127-972b-b792985ae6ea"
            }
        },
        {
            "cell_type": "code",
            "source": [
                "DROP FUNCTION IF EXISTS f(a int, b int);"
            ],
            "metadata": {
                "azdata_cell_guid": "e619f444-3286-48c0-944f-2413d71ce925",
                "tags": [
                    "hide_input"
                ]
            },
            "outputs": [],
            "execution_count": 1
        }
    ]
}