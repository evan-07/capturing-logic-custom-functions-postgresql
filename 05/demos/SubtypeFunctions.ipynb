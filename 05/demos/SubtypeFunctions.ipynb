{
    "metadata": {
        "kernelspec": {
            "name": "SQL",
            "display_name": "SQL",
            "language": "sql"
        },
        "language_info": {
            "name": "sql",
            "version": ""
        }
    },
    "nbformat_minor": 2,
    "nbformat": 4,
    "cells": [
        {
            "cell_type": "markdown",
            "source": [
                "## Subtype Polymorphic Functions"
            ],
            "metadata": {
                "azdata_cell_guid": "36bf3396-7027-4591-923d-3e97467eef85"
            }
        },
        {
            "cell_type": "markdown",
            "source": [
                "---\r\n",
                "### Create a table using inheritance and insert a new row."
            ],
            "metadata": {
                "azdata_cell_guid": "8e5c68a2-993d-4389-aad4-b273c38bbe85"
            }
        },
        {
            "cell_type": "code",
            "source": [
                "CREATE TABLE expedited_orders (\r\n",
                "    expedited_date DATE NOT NULL\r\n",
                ")\r\n",
                "INHERITS (orders);\r\n",
                "\r\n",
                "INSERT INTO expedited_orders (orderdate, customerid, netamount, tax, totalamount, expedited_date)\r\n",
                "    VALUES('20201225', 1, 0, 0, 0, '20200601');\r\n",
                ""
            ],
            "metadata": {
                "azdata_cell_guid": "b11f3cd4-86c8-4773-ad51-7503e5251398",
                "tags": [
                    "hide_input"
                ]
            },
            "outputs": [],
            "execution_count": 5
        },
        {
            "cell_type": "markdown",
            "source": [
                "---\r\n",
                "### Create polymorphic functions to check tax values for regular and expedited orders."
            ],
            "metadata": {
                "azdata_cell_guid": "84d623ae-659b-4234-ba8f-841edd40a99f"
            }
        },
        {
            "cell_type": "code",
            "source": [
                "CREATE OR REPLACE FUNCTION has_tax(o_row orders) RETURNS TABLE(tbl VARCHAR, tax BOOLEAN)\r\n",
                "LANGUAGE SQL AS $$\r\n",
                "    SELECT 'orders', o_row.tax = 0;\r\n",
                "$$;\r\n",
                "\r\n",
                "CREATE OR REPLACE FUNCTION has_tax(e_row expedited_orders) RETURNS TABLE(tbl VARCHAR, tax BOOLEAN)\r\n",
                "LANGUAGE SQL AS $$\r\n",
                "    SELECT 'expedited', e_row.tax = 0;\r\n",
                "$$;"
            ],
            "metadata": {
                "azdata_cell_guid": "baeaba50-7e92-483f-9c66-1ccaaf4b91d7",
                "tags": [
                    "hide_input"
                ]
            },
            "outputs": [],
            "execution_count": 6
        },
        {
            "cell_type": "markdown",
            "source": [
                "---\r\n",
                "### Use polymorphic function to check tax amounts."
            ],
            "metadata": {
                "azdata_cell_guid": "b385d01c-a78d-46b2-86fd-bd34f79ccef4"
            }
        },
        {
            "cell_type": "code",
            "source": [
                "SELECT has_tax(o.*) FROM orders o WHERE orderid = 1;\r\n",
                "SELECT has_tax(e.*) FROM expedited_orders e;"
            ],
            "metadata": {
                "azdata_cell_guid": "9434295c-a93c-45ba-af1d-7b12d003b035",
                "tags": [
                    "hide_input"
                ]
            },
            "outputs": [],
            "execution_count": 10
        },
        {
            "cell_type": "markdown",
            "source": [
                "---\r\n",
                "### Clean up"
            ],
            "metadata": {
                "azdata_cell_guid": "a8d1f410-589c-435a-945b-73a7743155a1"
            }
        },
        {
            "cell_type": "code",
            "source": [
                "DROP FUNCTION IF EXISTS has_tax(expedited_orders);\r\n",
                "DROP FUNCTION IF EXISTS has_tax(orders);\r\n",
                "DROP TABLE IF EXISTS expedited_orders;"
            ],
            "metadata": {
                "azdata_cell_guid": "4b8c1f46-c63d-4214-b342-3a89aaa019e1",
                "tags": [
                    "hide_input"
                ]
            },
            "outputs": [],
            "execution_count": 11
        }
    ]
}