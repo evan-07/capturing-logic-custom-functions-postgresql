{
    "metadata": {
        "kernelspec": {
            "name": "SQL",
            "display_name": "SQL",
            "language": "sql"
        },
        "language_info": {
            "name": "sql",
            "version": ""
        }
    },
    "nbformat_minor": 2,
    "nbformat": 4,
    "cells": [
        {
            "cell_type": "markdown",
            "source": [
                "## Variadic Functions"
            ],
            "metadata": {
                "azdata_cell_guid": "214c85c0-3b67-4d84-b2ed-5c5dce10199b"
            }
        },
        {
            "cell_type": "markdown",
            "source": [
                "---\r\n",
                "### Variadic parameter of a specific type"
            ],
            "metadata": {
                "azdata_cell_guid": "8163881a-04fc-4e43-9821-96ee72a5c061"
            }
        },
        {
            "cell_type": "code",
            "source": [
                "CREATE OR REPLACE FUNCTION v(VARIADIC x int[]) RETURNS SETOF int\r\n",
                "LANGUAGE SQL AS $$\r\n",
                "    SELECT * from unnest(x);\r\n",
                "$$;\r\n",
                "\r\n",
                "SELECT * FROM v(1,2);\r\n",
                "SELECT * FROM v(VARIADIC x:= ARRAY[1,2,3]);"
            ],
            "metadata": {
                "azdata_cell_guid": "2c18cbff-71fc-4965-96c8-efb5403c7bed",
                "tags": [],
                "language": "sql"
            },
            "outputs": [],
            "execution_count": 5
        },
        {
            "cell_type": "markdown",
            "source": [
                "---\r\n",
                "### Variadic parameter of a pseudo-type (generic)"
            ],
            "metadata": {
                "azdata_cell_guid": "c975931c-d5aa-42b8-ae02-bc934099101f"
            }
        },
        {
            "cell_type": "code",
            "source": [
                "CREATE OR REPLACE FUNCTION v(VARIADIC x anyarray) RETURNS SETOF anyelement\r\n",
                "LANGUAGE SQL AS $$\r\n",
                "    SELECT * from unnest(x);\r\n",
                "$$;\r\n",
                "\r\n",
                "SELECT * FROM v(1,2);\r\n",
                "SELECT * FROM v('a'::char,'b'::char);"
            ],
            "metadata": {
                "azdata_cell_guid": "e9a1f972-9d29-4b14-9eeb-d475a491fe53",
                "tags": [
                    "hide_input"
                ],
                "language": "sql"
            },
            "outputs": [],
            "execution_count": 7
        },
        {
            "cell_type": "markdown",
            "source": [
                "---\r\n",
                "### Variadic logger"
            ],
            "metadata": {
                "azdata_cell_guid": "b82cee98-dc17-473a-bde7-b0b25f2ee261"
            }
        },
        {
            "cell_type": "code",
            "source": [
                "CREATE OR REPLACE FUNCTION logger(VARIADIC l VARCHAR[]) RETURNS VOID\r\n",
                "LANGUAGE plpgsql AS $$\r\n",
                "DECLARE\r\n",
                "    le VARCHAR;\r\n",
                "BEGIN\r\n",
                "    SELECT STRING_AGG(x, '|') FROM unnest(l) AS l(x) INTO le;  \r\n",
                "    RAISE NOTICE 'Log entry: %' ,le;\r\n",
                "END;    \r\n",
                "$$;\r\n",
                "\r\n",
                "SELECT logger('this','is','a','log','entry');"
            ],
            "metadata": {
                "azdata_cell_guid": "af016c9d-8a1c-482d-96e4-b50ab9f5c983",
                "tags": [
                    "hide_input"
                ],
                "language": "sql"
            },
            "outputs": [],
            "execution_count": 9
        },
        {
            "cell_type": "markdown",
            "source": [
                "---\r\n",
                "### Clean up"
            ],
            "metadata": {
                "azdata_cell_guid": "925b3aaf-338a-42a0-b4b4-fb19111b5909"
            }
        },
        {
            "cell_type": "code",
            "source": [
                "DROP FUNCTION IF EXISTS v(VARIADIC x anyarray);\r\n",
                "DROP FUNCTION IF EXISTS logger(VARIADIC l VARCHAR[]);"
            ],
            "metadata": {
                "azdata_cell_guid": "94ff1314-7a7c-476d-a1fe-e87720943f9f",
                "tags": [
                    "hide_input"
                ],
                "language": "sql"
            },
            "outputs": [],
            "execution_count": 4
        }
    ]
}