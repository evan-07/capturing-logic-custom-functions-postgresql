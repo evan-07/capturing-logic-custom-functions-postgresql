{
    "metadata": {
        "kernelspec": {
            "name": "SQL",
            "display_name": "SQL",
            "language": "sql"
        },
        "language_info": {
            "name": "sql",
            "version": ""
        }
    },
    "nbformat_minor": 2,
    "nbformat": 4,
    "cells": [
        {
            "cell_type": "markdown",
            "source": [
                "## Parametric Parameter Functions"
            ],
            "metadata": {
                "azdata_cell_guid": "11c73528-f0d9-4c4d-8e29-929d89694f09"
            }
        },
        {
            "cell_type": "markdown",
            "source": [
                "Pseudo types\r\n",
                "\r\n",
                " Name      |Description        |Note \r\n",
                "---------- |------------       |-----\r\n",
                "any        |any input data type| Not for SQL or PL/pgSQL\r\n",
                "anyarray   |any array type \r\n",
                "anyelement |any data datatype\r\n",
                "anyenum    |any enum type\r\n",
                "anynonarray|any non array type\r\n",
                "void       |returns no value"
            ],
            "metadata": {
                "azdata_cell_guid": "65de7a35-45dd-478a-b2f0-ed1696212b47"
            }
        },
        {
            "cell_type": "markdown",
            "source": [
                "---\r\n",
                "### Generic subtraction"
            ],
            "metadata": {
                "azdata_cell_guid": "2dacbb8e-7f04-4732-b3d5-2bfe807b5086"
            }
        },
        {
            "cell_type": "code",
            "source": [
                "CREATE OR REPLACE FUNCTION f(x anyelement, y anyelement) \r\n",
                "    RETURNS anyelement\r\n",
                "LANGUAGE SQL AS 'SELECT x-y;';"
            ],
            "metadata": {
                "azdata_cell_guid": "58a9295a-db4f-4d49-be2f-8a99473734ab",
                "tags": [
                    "hide_input"
                ]
            },
            "outputs": [],
            "execution_count": 13
        },
        {
            "cell_type": "code",
            "source": [
                "SELECT pg_typeof(f(42, 42)), f(42, 42);\r\n",
                "SELECT pg_typeof(f(42.0, 42.0)), f(42.0, 42.0);\r\n",
                "SELECT pg_typeof(f(pi(), phi())), f(pi(), phi());"
            ],
            "metadata": {
                "azdata_cell_guid": "b736974a-db32-496a-a80a-3ba7a8f96c04",
                "tags": [
                    "hide_input"
                ]
            },
            "outputs": [],
            "execution_count": 23
        },
        {
            "cell_type": "code",
            "source": [
                "SELECT f(TRUE, FALSE);"
            ],
            "metadata": {
                "azdata_cell_guid": "a1d3ce08-77c8-4e15-a623-504f5e172b4f",
                "tags": [
                    "hide_input"
                ]
            },
            "outputs": [],
            "execution_count": 24
        },
        {
            "cell_type": "markdown",
            "source": [
                "---\r\n",
                "### Generic ARRAY \"addition\" (concatenation)"
            ],
            "metadata": {
                "azdata_cell_guid": "14d31dd2-2eb1-49cd-80e4-0a9984782246"
            }
        },
        {
            "cell_type": "code",
            "source": [
                "CREATE OR REPLACE FUNCTION g(x anyarray, y anyarray) \r\n",
                "    RETURNS anyarray\r\n",
                "LANGUAGE SQL AS 'SELECT x || y;';\r\n",
                "\r\n",
                "SELECT g(ARRAY[1,2,3], ARRAY[4,5,6]);\r\n",
                "SELECT g(ARRAY['a','b'], ARRAY['a','b']);"
            ],
            "metadata": {
                "azdata_cell_guid": "e3c8d4e8-49d2-4cba-9364-1913fbd7cc61",
                "tags": [
                    "hide_input"
                ]
            },
            "outputs": [],
            "execution_count": 26
        },
        {
            "cell_type": "markdown",
            "source": [
                "---\r\n",
                "### Unsupported type"
            ],
            "metadata": {
                "azdata_cell_guid": "bb9ea724-430a-41e5-afc0-e5f5f06ff1af"
            }
        },
        {
            "cell_type": "code",
            "source": [
                "CREATE OR REPLACE FUNCTION h(x anyenum) \r\n",
                "    RETURNS void\r\n",
                "LANGUAGE SQL AS '';\r\n",
                "\r\n",
                "SELECT h(42);"
            ],
            "metadata": {
                "azdata_cell_guid": "d0483999-16b9-4515-a305-059d2fcbda0e",
                "tags": [
                    "hide_input"
                ]
            },
            "outputs": [],
            "execution_count": 27
        },
        {
            "cell_type": "markdown",
            "source": [
                "---\r\n",
                "### Anyelement with restrictions"
            ],
            "metadata": {
                "azdata_cell_guid": "32ce23ee-8476-413b-a248-edb6d86eee99"
            }
        },
        {
            "cell_type": "code",
            "source": [
                "CREATE OR REPLACE FUNCTION f(x anyelement, y anyelement) \r\n",
                "    RETURNS anyelement\r\n",
                "LANGUAGE plpgsql AS $$ BEGIN\r\n",
                "    IF  pg_typeof(x) IN ('integer', 'numeric', 'double precision')\r\n",
                "    AND pg_typeof(y) IN ('integer', 'numeric', 'double precision')\r\n",
                "     THEN\r\n",
                "        RETURN x - y;\r\n",
                "    ELSE \r\n",
                "        RETURN null;\r\n",
                "    END IF;\r\n",
                "END $$;"
            ],
            "metadata": {
                "azdata_cell_guid": "81ee2551-da74-4c64-a8e3-ebf03c8c6fc7",
                "tags": [
                    "hide_input"
                ]
            },
            "outputs": [],
            "execution_count": 28
        },
        {
            "cell_type": "code",
            "source": [
                "SELECT f(42, 42) AS \"ints\", f(42.0, 42.0) AS \"nums\", f(42::REAL, 42::REAL) AS \"reals\";"
            ],
            "metadata": {
                "azdata_cell_guid": "474c693c-1320-46f4-80d3-ff8e8ef37901",
                "tags": [
                    "hide_input"
                ]
            },
            "outputs": [],
            "execution_count": 29
        },
        {
            "cell_type": "markdown",
            "source": [
                "---\r\n",
                "### Clean up"
            ],
            "metadata": {
                "azdata_cell_guid": "2cb570b0-67a9-4547-a8ec-8e35d5ad3651"
            }
        },
        {
            "cell_type": "code",
            "source": [
                "DROP FUNCTION IF EXISTS f(x anyelement, y anyelement);\r\n",
                "DROP FUNCTION IF EXISTS f(int);\r\n",
                "DROP FUNCTION IF EXISTS f(int, int);\r\n",
                "DROP FUNCTION IF EXISTS f(int, int, int);\r\n",
                "DROP FUNCTION IF EXISTS g(x anyarray, y anyarray);\r\n",
                "DROP FUNCTION IF EXISTS h(x anyenum);"
            ],
            "metadata": {
                "azdata_cell_guid": "133bfb9b-ed1f-4769-9731-004d18fd43d9",
                "tags": [
                    "hide_input"
                ]
            },
            "outputs": [],
            "execution_count": 30
        }
    ]
}