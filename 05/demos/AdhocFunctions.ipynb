{
    "metadata": {
        "kernelspec": {
            "name": "SQL",
            "display_name": "SQL",
            "language": "sql"
        },
        "language_info": {
            "name": "sql",
            "version": ""
        }
    },
    "nbformat_minor": 2,
    "nbformat": 4,
    "cells": [
        {
            "cell_type": "markdown",
            "source": [
                "## Ad hoc polymorphic functions"
            ],
            "metadata": {
                "azdata_cell_guid": "9cd8f4d4-cca3-413a-95ff-a842db71ae2e"
            }
        },
        {
            "cell_type": "markdown",
            "source": [
                "---\r\n",
                "### Adding two numbers"
            ],
            "metadata": {
                "azdata_cell_guid": "02bf19d8-52a4-4f0a-91a0-be52a393c05c"
            }
        },
        {
            "cell_type": "code",
            "source": [
                "CREATE OR REPLACE FUNCTION adhoc(x INT, y INT) RETURNS INT\r\n",
                "LANGUAGE SQL AS 'SELECT x + y;';\r\n",
                "\r\n",
                "CREATE OR REPLACE FUNCTION adhoc(x FLOAT, y FLOAT) RETURNS FLOAT\r\n",
                "LANGUAGE SQL AS 'SELECT x + y;';\r\n",
                "\r\n",
                "CREATE OR REPLACE FUNCTION phi() RETURNS FLOAT\r\n",
                "LANGUAGE SQL AS 'SELECT (1::FLOAT + SQRT(5::FLOAT))/2::FLOAT;';"
            ],
            "metadata": {
                "azdata_cell_guid": "a87b6247-c52d-43b3-ab24-9e66c3349efc",
                "tags": [
                    "hide_input"
                ]
            },
            "outputs": [],
            "execution_count": 23
        },
        {
            "cell_type": "code",
            "source": [
                "SELECT adhoc(2, 4), adhoc(PI(), phi());"
            ],
            "metadata": {
                "azdata_cell_guid": "1f35b6fd-5714-4fa5-8e4e-2dff87caa85e",
                "tags": [
                    "hide_input"
                ]
            },
            "outputs": [],
            "execution_count": 24
        },
        {
            "cell_type": "code",
            "source": [
                "SELECT adhoc('A'::CHAR, 'B'::CHAR);"
            ],
            "metadata": {
                "azdata_cell_guid": "59e56c61-c01c-47a0-b662-cb089cb37c70",
                "tags": [
                    "hide_input"
                ]
            },
            "outputs": [],
            "execution_count": 25
        },
        {
            "cell_type": "markdown",
            "source": [
                "---\r\n",
                "### Selecting from different tables based on parameter types"
            ],
            "metadata": {
                "azdata_cell_guid": "76eddc81-c0c1-4975-909f-cdcf9ca28dc2"
            }
        },
        {
            "cell_type": "code",
            "source": [
                "CREATE OR REPLACE FUNCTION getcol(age customers.age%TYPE) RETURNS INT\r\n",
                "LANGUAGE SQL AS $$\r\n",
                "    SELECT customerid FROM customers c WHERE c.age = getcol.age;\r\n",
                "$$;\r\n",
                "\r\n",
                "CREATE OR REPLACE FUNCTION getcol(id orders.orderid%TYPE) RETURNS NUMERIC\r\n",
                "LANGUAGE SQL AS $$\r\n",
                "    SELECT totalamount FROM orders WHERE orderid = id;\r\n",
                "$$;"
            ],
            "metadata": {
                "azdata_cell_guid": "adb407b1-fc90-402c-8471-14e7e390a346",
                "tags": [
                    "hide_input"
                ]
            },
            "outputs": [],
            "execution_count": 26
        },
        {
            "cell_type": "code",
            "source": [
                "SELECT getcol(age) AS customer_id FROM customers;\r\n",
                "SELECT getcol(orderid) from orders;"
            ],
            "metadata": {
                "azdata_cell_guid": "30e98ce1-d75c-41f9-ab8c-3e44c2734b30",
                "tags": [
                    "hide_input"
                ]
            },
            "outputs": [],
            "execution_count": 27
        },
        {
            "cell_type": "code",
            "source": [
                "SELECT getcol(age::INT) AS \"customer_id (is it?)\" FROM customers;\r\n",
                "SELECT getcol(orderid::INT2) from orders;"
            ],
            "metadata": {
                "azdata_cell_guid": "f204ce1e-2053-4a37-9d20-1762b5624724",
                "tags": [
                    "hide_input"
                ]
            },
            "outputs": [],
            "execution_count": 29
        },
        {
            "cell_type": "markdown",
            "source": [
                "---\r\n",
                "### Clean up"
            ],
            "metadata": {
                "azdata_cell_guid": "ae0d12ed-2812-4851-b6e0-4bc39124fceb"
            }
        },
        {
            "cell_type": "code",
            "source": [
                "DROP FUNCTION IF EXISTS adhoc(INT, INT);\r\n",
                "DROP FUNCTION IF EXISTS adhoc(FLOAT, FLOAT);\r\n",
                "DROP FUNCTION IF EXISTS getcol(INT2);\r\n",
                "DROP FUNCTION IF EXISTS getcol(INT);"
            ],
            "metadata": {
                "azdata_cell_guid": "261cc41d-4718-4d07-969d-f6215248a67b",
                "tags": [
                    "hide_input"
                ]
            },
            "outputs": [],
            "execution_count": 30
        }
    ]
}