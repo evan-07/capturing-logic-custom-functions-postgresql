{
    "metadata": {
        "kernelspec": {
            "name": "SQL",
            "display_name": "SQL",
            "language": "sql"
        },
        "language_info": {
            "name": "sql",
            "version": ""
        }
    },
    "nbformat_minor": 2,
    "nbformat": 4,
    "cells": [
        {
            "cell_type": "markdown",
            "source": [
                "## Double Abstraction"
            ],
            "metadata": {
                "azdata_cell_guid": "bc8c9ffb-6cc3-4de1-8bf9-098fc7fcd495"
            }
        },
        {
            "cell_type": "markdown",
            "source": [
                "---\r\n",
                "### Create a group and add users"
            ],
            "metadata": {
                "azdata_cell_guid": "fa419655-da05-4c48-93bc-bb7a29aec533"
            }
        },
        {
            "cell_type": "code",
            "source": [
                "CREATE GROUP cust_reps_group;\r\n",
                "CREATE USER Lucas       IN GROUP cust_reps_group PASSWORD 'p455w0rd';  -- No one will ever guess!\r\n",
                "CREATE USER Leah        IN GROUP cust_reps_group PASSWORD 'p455w0rd';\r\n",
                "CREATE USER Hans        IN GROUP cust_reps_group PASSWORD 'p455w0rd';\r\n",
                "CREATE USER Benjamin    IN GROUP cust_reps_group PASSWORD 'p455w0rd';\r\n",
                "CREATE USER Ray         IN GROUP cust_reps_group PASSWORD 'p455w0rd';"
            ],
            "metadata": {
                "azdata_cell_guid": "f7db4843-d46a-4ac7-b0c8-0ff7edfba025",
                "tags": [
                    "hide_input"
                ]
            },
            "outputs": [],
            "execution_count": 4
        },
        {
            "cell_type": "markdown",
            "source": [
                "---\r\n",
                "### Create a role and grant permissions"
            ],
            "metadata": {
                "azdata_cell_guid": "b297d5ce-3daa-464f-8fb9-38fdd6edffea"
            }
        },
        {
            "cell_type": "code",
            "source": [
                "CREATE ROLE cust_reps_role;\r\n",
                "GRANT SELECT, INSERT, UPDATE, DELETE\r\n",
                "    ON TABLE customers \r\n",
                "    TO cust_reps_role;"
            ],
            "metadata": {
                "azdata_cell_guid": "02913554-3fa4-4715-b61b-df04a157d8c1",
                "tags": [
                    "hide_input"
                ]
            },
            "outputs": [],
            "execution_count": 5
        },
        {
            "cell_type": "markdown",
            "source": [
                "---\r\n",
                "### Connect user group to the role to grant permissions"
            ],
            "metadata": {
                "azdata_cell_guid": "a6880fbb-0e2b-4192-b1fa-2effe563ec49"
            }
        },
        {
            "cell_type": "code",
            "source": [
                "GRANT cust_reps_role TO cust_reps_group;"
            ],
            "metadata": {
                "azdata_cell_guid": "8bb0b8e1-44f3-4c4e-a5b4-a018d40f84fe",
                "tags": [
                    "hide_input"
                ]
            },
            "outputs": [],
            "execution_count": 6
        },
        {
            "cell_type": "markdown",
            "source": [
                "---\r\n",
                "### Clean up"
            ],
            "metadata": {
                "azdata_cell_guid": "4a80211a-3bf4-40b5-b2e4-b5dd47302168"
            }
        },
        {
            "cell_type": "code",
            "source": [
                "DROP GROUP IF EXISTS cust_reps_group;\r\n",
                "DROP USER IF EXISTS Lucas, Leah, Hans, Benjamin, Ray;\r\n",
                "DROP OWNED BY cust_reps_role;\r\n",
                "DROP ROLE IF EXISTS cust_reps_role;"
            ],
            "metadata": {
                "azdata_cell_guid": "92aa9341-7bcc-4184-9b31-6a7ca6db56f4",
                "tags": [
                    "hide_input"
                ]
            },
            "outputs": [],
            "execution_count": 7
        }
    ]
}