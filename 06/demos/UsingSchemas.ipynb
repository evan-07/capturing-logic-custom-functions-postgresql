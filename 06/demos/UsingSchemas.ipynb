{
    "metadata": {
        "kernelspec": {
            "name": "SQL",
            "display_name": "SQL",
            "language": "sql"
        },
        "language_info": {
            "name": "sql",
            "version": ""
        }
    },
    "nbformat_minor": 2,
    "nbformat": 4,
    "cells": [
        {
            "cell_type": "markdown",
            "source": [
                "## Using Schemas"
            ],
            "metadata": {
                "azdata_cell_guid": "a982b63a-3d40-4773-9f48-ae022ab6087c"
            }
        },
        {
            "cell_type": "code",
            "source": [
                "SELECT * FROM public.customers LIMIT 5;"
            ],
            "metadata": {
                "azdata_cell_guid": "a6f8eacd-e520-4a1a-b698-43ee4c8db652",
                "tags": [
                    "hide_input"
                ]
            },
            "outputs": [],
            "execution_count": 4
        },
        {
            "cell_type": "markdown",
            "source": [
                "---\r\n",
                "### Create a schema for customer objects and set up basic permissions"
            ],
            "metadata": {
                "azdata_cell_guid": "b0ffe751-0978-4635-b21a-fd221a9dd013"
            }
        },
        {
            "cell_type": "code",
            "source": [
                "CREATE ROLE cust_owner;\r\n",
                "CREATE SCHEMA cust AUTHORIZATION cust_owner;\r\n",
                "GRANT USAGE ON SCHEMA cust to cust_owner;\r\n",
                "\r\n",
                "ALTER DEFAULT PRIVILEGES \r\n",
                "    IN SCHEMA cust\r\n",
                "    GRANT SELECT, INSERT, UPDATE, DELETE ON TABLES TO cust_owner;"
            ],
            "metadata": {
                "azdata_cell_guid": "b22f3a08-4b71-4c6a-8749-409dadfaf669",
                "tags": [
                    "hide_input"
                ]
            },
            "outputs": [],
            "execution_count": 8
        },
        {
            "cell_type": "markdown",
            "source": [
                "---\r\n",
                "### Copy customers table to new schema"
            ],
            "metadata": {
                "azdata_cell_guid": "4abbd687-4370-4318-bdf4-7094f1f6ab1e"
            }
        },
        {
            "cell_type": "code",
            "source": [
                "CREATE TABLE cust.customers AS\r\n",
                "    SELECT * FROM public.customers;"
            ],
            "metadata": {
                "azdata_cell_guid": "b28e0ca1-4ecf-4cef-971a-b72eb82b0728",
                "tags": [
                    "hide_input"
                ]
            },
            "outputs": [],
            "execution_count": 9
        },
        {
            "cell_type": "markdown",
            "source": [
                "---\r\n",
                "### Create function to read name from the customers table"
            ],
            "metadata": {
                "azdata_cell_guid": "7559a185-b1f1-407b-9cd6-f436d7b88a44"
            }
        },
        {
            "cell_type": "code",
            "source": [
                "CREATE OR REPLACE FUNCTION cust.get_cust_name(id INTEGER) \r\n",
                "    RETURNS VARCHAR\r\n",
                "    LANGUAGE SQL\r\n",
                "    STABLE LEAKPROOF\r\n",
                "    SET search_path = cust\r\n",
                "    SECURITY DEFINER\r\n",
                "AS $$\r\n",
                "    SELECT CONCAT_WS(' ', firstname, lastname) \r\n",
                "    FROM cust.customers c\r\n",
                "    WHERE c.customerid = id;\r\n",
                "$$;\r\n",
                "\r\n",
                "ALTER FUNCTION cust.get_cust_name(id INTEGER)\r\n",
                "    OWNER to cust_owner;"
            ],
            "metadata": {
                "azdata_cell_guid": "101464bf-0421-482f-9428-42514250c7ee",
                "tags": [
                    "hide_input"
                ]
            },
            "outputs": [],
            "execution_count": 2
        },
        {
            "cell_type": "markdown",
            "source": [
                "---\r\n",
                "### Create report analyst role and users and revoke privileges"
            ],
            "metadata": {
                "azdata_cell_guid": "f54bb988-b6af-4212-9e5e-8e4c1f153dba"
            }
        },
        {
            "cell_type": "code",
            "source": [
                "CREATE GROUP report_analysts;\r\n",
                "CREATE USER Lindsay IN GROUP report_analysts PASSWORD 'p455w0rd';\r\n",
                "GRANT USAGE ON SCHEMA cust TO report_analysts;\r\n",
                "\r\n",
                "REVOKE SELECT, INSERT, UPDATE, DELETE \r\n",
                "    ON ALL TABLES IN SCHEMA cust FROM report_analysts;\r\n",
                "GRANT EXECUTE ON ALL FUNCTIONS IN SCHEMA cust TO report_analysts;"
            ],
            "metadata": {
                "azdata_cell_guid": "543e4393-d5c1-481a-b350-121eaaf099fa",
                "tags": [
                    "hide_input"
                ]
            },
            "outputs": [],
            "execution_count": 3
        },
        {
            "cell_type": "markdown",
            "source": [
                "---\r\n",
                "### Clean Up"
            ],
            "metadata": {
                "azdata_cell_guid": "29c1ccbd-2eda-4a8a-bcaf-097297d361f3"
            }
        },
        {
            "cell_type": "code",
            "source": [
                "DROP FUNCTION IF EXISTS cust.get_cust_name(INT);\r\n",
                "DROP TABLE IF EXISTS cust.customers;\r\n",
                "DROP SCHEMA IF EXISTS cust;\r\n",
                "DROP ROLE IF EXISTS cust_owner;\r\n",
                "DROP USER IF EXISTS Lindsay;\r\n",
                "DROP GROUP IF EXISTS report_analysts;"
            ],
            "metadata": {
                "azdata_cell_guid": "064e6514-8a37-4ae9-966f-ba4a97555c02",
                "tags": [
                    "hide_input"
                ]
            },
            "outputs": [],
            "execution_count": 1
        }
    ]
}