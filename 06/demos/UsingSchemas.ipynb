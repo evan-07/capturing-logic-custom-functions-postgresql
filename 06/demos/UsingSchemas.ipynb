{
    "metadata": {
        "kernelspec": {
            "name": "SQL",
            "display_name": "SQL",
            "language": "sql"
        },
        "language_info": {
            "name": "sql",
            "version": ""
        }
    },
    "nbformat_minor": 2,
    "nbformat": 4,
    "cells": [
        {
            "cell_type": "markdown",
            "source": [
                "## Using Schemas"
            ],
            "metadata": {
                "azdata_cell_guid": "a982b63a-3d40-4773-9f48-ae022ab6087c"
            }
        },
        {
            "cell_type": "code",
            "source": [
                "SELECT * FROM public.customers LIMIT 5;"
            ],
            "metadata": {
                "azdata_cell_guid": "a6f8eacd-e520-4a1a-b698-43ee4c8db652",
                "tags": [
                    "hide_input"
                ],
                "language": "sql"
            },
            "outputs": [
                {
                    "output_type": "display_data",
                    "data": {
                        "text/html": "(5 row(s) affected)"
                    },
                    "metadata": {}
                },
                {
                    "output_type": "display_data",
                    "data": {
                        "text/html": "Total execution time: 00:00:00.367"
                    },
                    "metadata": {}
                },
                {
                    "output_type": "execute_result",
                    "metadata": {},
                    "execution_count": 1,
                    "data": {
                        "application/vnd.dataresource+json": {
                            "schema": {
                                "fields": [
                                    {
                                        "name": "customerid"
                                    },
                                    {
                                        "name": "firstname"
                                    },
                                    {
                                        "name": "lastname"
                                    },
                                    {
                                        "name": "address1"
                                    },
                                    {
                                        "name": "address2"
                                    },
                                    {
                                        "name": "city"
                                    },
                                    {
                                        "name": "state"
                                    },
                                    {
                                        "name": "zip"
                                    },
                                    {
                                        "name": "country"
                                    },
                                    {
                                        "name": "region"
                                    },
                                    {
                                        "name": "email"
                                    },
                                    {
                                        "name": "phone"
                                    },
                                    {
                                        "name": "creditcardtype"
                                    },
                                    {
                                        "name": "creditcard"
                                    },
                                    {
                                        "name": "creditcardexpiration"
                                    },
                                    {
                                        "name": "username"
                                    },
                                    {
                                        "name": "password"
                                    },
                                    {
                                        "name": "age"
                                    },
                                    {
                                        "name": "income"
                                    },
                                    {
                                        "name": "gender"
                                    }
                                ]
                            },
                            "data": [
                                {
                                    "customerid": "1",
                                    "firstname": "RNPOJG",
                                    "lastname": "FQIVBKWIZC",
                                    "address1": "1287944454 Dell Way",
                                    "address2": "",
                                    "city": "XCXNWIS",
                                    "state": "ND",
                                    "zip": "42572",
                                    "country": "US",
                                    "region": "1",
                                    "email": "FQIVBKWIZC@dell.com",
                                    "phone": "1287944454",
                                    "creditcardtype": "5",
                                    "creditcard": "1890860486775636",
                                    "creditcardexpiration": "2012/06",
                                    "username": "user1",
                                    "password": "password",
                                    "age": "49",
                                    "income": "80000",
                                    "gender": "M"
                                },
                                {
                                    "customerid": "2",
                                    "firstname": "RKLQYY",
                                    "lastname": "HPUIUYBWZX",
                                    "address1": "3104451734 Dell Way",
                                    "address2": "",
                                    "city": "OWLUWVE",
                                    "state": "CA",
                                    "zip": "67434",
                                    "country": "US",
                                    "region": "1",
                                    "email": "HPUIUYBWZX@dell.com",
                                    "phone": "3104451734",
                                    "creditcardtype": "3",
                                    "creditcard": "1066779058426618",
                                    "creditcardexpiration": "2011/06",
                                    "username": "user2",
                                    "password": "password",
                                    "age": "87",
                                    "income": "40000",
                                    "gender": "M"
                                },
                                {
                                    "customerid": "3",
                                    "firstname": "GWPSHI",
                                    "lastname": "QWRLBUPCHY",
                                    "address1": "3471147404 Dell Way",
                                    "address2": "",
                                    "city": "RYWSJPW",
                                    "state": "CT",
                                    "zip": "49571",
                                    "country": "US",
                                    "region": "1",
                                    "email": "QWRLBUPCHY@dell.com",
                                    "phone": "3471147404",
                                    "creditcardtype": "1",
                                    "creditcard": "5555479255504906",
                                    "creditcardexpiration": "2010/09",
                                    "username": "user3",
                                    "password": "password",
                                    "age": "63",
                                    "income": "20000",
                                    "gender": "M"
                                },
                                {
                                    "customerid": "4",
                                    "firstname": "ONCPHI",
                                    "lastname": "TZIJOMZQJJ",
                                    "address1": "5811325555 Dell Way",
                                    "address2": "",
                                    "city": "IATPPWH",
                                    "state": "AK",
                                    "zip": "99909",
                                    "country": "US",
                                    "region": "1",
                                    "email": "TZIJOMZQJJ@dell.com",
                                    "phone": "5811325555",
                                    "creditcardtype": "5",
                                    "creditcard": "9358483086340128",
                                    "creditcardexpiration": "2008/06",
                                    "username": "user4",
                                    "password": "password",
                                    "age": "71",
                                    "income": "40000",
                                    "gender": "M"
                                },
                                {
                                    "customerid": "5",
                                    "firstname": "CIDXWX",
                                    "lastname": "GNYGKZXSCR",
                                    "address1": "9227139292 Dell Way",
                                    "address2": "",
                                    "city": "WGHZCLX",
                                    "state": "WA",
                                    "zip": "19937",
                                    "country": "US",
                                    "region": "1",
                                    "email": "GNYGKZXSCR@dell.com",
                                    "phone": "9227139292",
                                    "creditcardtype": "2",
                                    "creditcard": "8126189742702991",
                                    "creditcardexpiration": "2008/04",
                                    "username": "user5",
                                    "password": "password",
                                    "age": "18",
                                    "income": "100000",
                                    "gender": "M"
                                }
                            ]
                        },
                        "text/html": [
                            "<table>",
                            "<tr><th>customerid</th><th>firstname</th><th>lastname</th><th>address1</th><th>address2</th><th>city</th><th>state</th><th>zip</th><th>country</th><th>region</th><th>email</th><th>phone</th><th>creditcardtype</th><th>creditcard</th><th>creditcardexpiration</th><th>username</th><th>password</th><th>age</th><th>income</th><th>gender</th></tr>",
                            "<tr><td>1</td><td>RNPOJG</td><td>FQIVBKWIZC</td><td>1287944454 Dell Way</td><td></td><td>XCXNWIS</td><td>ND</td><td>42572</td><td>US</td><td>1</td><td>FQIVBKWIZC@dell.com</td><td>1287944454</td><td>5</td><td>1890860486775636</td><td>2012/06</td><td>user1</td><td>password</td><td>49</td><td>80000</td><td>M</td></tr>",
                            "<tr><td>2</td><td>RKLQYY</td><td>HPUIUYBWZX</td><td>3104451734 Dell Way</td><td></td><td>OWLUWVE</td><td>CA</td><td>67434</td><td>US</td><td>1</td><td>HPUIUYBWZX@dell.com</td><td>3104451734</td><td>3</td><td>1066779058426618</td><td>2011/06</td><td>user2</td><td>password</td><td>87</td><td>40000</td><td>M</td></tr>",
                            "<tr><td>3</td><td>GWPSHI</td><td>QWRLBUPCHY</td><td>3471147404 Dell Way</td><td></td><td>RYWSJPW</td><td>CT</td><td>49571</td><td>US</td><td>1</td><td>QWRLBUPCHY@dell.com</td><td>3471147404</td><td>1</td><td>5555479255504906</td><td>2010/09</td><td>user3</td><td>password</td><td>63</td><td>20000</td><td>M</td></tr>",
                            "<tr><td>4</td><td>ONCPHI</td><td>TZIJOMZQJJ</td><td>5811325555 Dell Way</td><td></td><td>IATPPWH</td><td>AK</td><td>99909</td><td>US</td><td>1</td><td>TZIJOMZQJJ@dell.com</td><td>5811325555</td><td>5</td><td>9358483086340128</td><td>2008/06</td><td>user4</td><td>password</td><td>71</td><td>40000</td><td>M</td></tr>",
                            "<tr><td>5</td><td>CIDXWX</td><td>GNYGKZXSCR</td><td>9227139292 Dell Way</td><td></td><td>WGHZCLX</td><td>WA</td><td>19937</td><td>US</td><td>1</td><td>GNYGKZXSCR@dell.com</td><td>9227139292</td><td>2</td><td>8126189742702991</td><td>2008/04</td><td>user5</td><td>password</td><td>18</td><td>100000</td><td>M</td></tr>",
                            "</table>"
                        ]
                    }
                }
            ],
            "execution_count": 1
        },
        {
            "cell_type": "markdown",
            "source": [
                "---\r\n",
                "### Create a schema for customer objects and set up basic permissions"
            ],
            "metadata": {
                "azdata_cell_guid": "b0ffe751-0978-4635-b21a-fd221a9dd013"
            }
        },
        {
            "cell_type": "code",
            "source": [
                "CREATE ROLE cust_owner;\r\n",
                "CREATE SCHEMA cust AUTHORIZATION cust_owner;\r\n",
                "GRANT USAGE ON SCHEMA cust to cust_owner;\r\n",
                "\r\n",
                "ALTER DEFAULT PRIVILEGES \r\n",
                "    IN SCHEMA cust\r\n",
                "    GRANT SELECT, INSERT, UPDATE, DELETE ON TABLES TO cust_owner;"
            ],
            "metadata": {
                "azdata_cell_guid": "b22f3a08-4b71-4c6a-8749-409dadfaf669",
                "tags": [],
                "language": "sql"
            },
            "outputs": [],
            "execution_count": 8
        },
        {
            "cell_type": "markdown",
            "source": [
                "---\r\n",
                "### Copy customers table to new schema"
            ],
            "metadata": {
                "azdata_cell_guid": "4abbd687-4370-4318-bdf4-7094f1f6ab1e"
            }
        },
        {
            "cell_type": "code",
            "source": [
                "CREATE TABLE cust.customers AS\r\n",
                "    SELECT * FROM public.customers;"
            ],
            "metadata": {
                "azdata_cell_guid": "b28e0ca1-4ecf-4cef-971a-b72eb82b0728",
                "tags": [],
                "language": "sql"
            },
            "outputs": [],
            "execution_count": 9
        },
        {
            "cell_type": "markdown",
            "source": [
                "---\r\n",
                "### Create function to read name from the customers table"
            ],
            "metadata": {
                "azdata_cell_guid": "7559a185-b1f1-407b-9cd6-f436d7b88a44"
            }
        },
        {
            "cell_type": "code",
            "source": [
                "CREATE OR REPLACE FUNCTION cust.get_cust_name(id INTEGER) \r\n",
                "    RETURNS VARCHAR\r\n",
                "    LANGUAGE SQL\r\n",
                "    STABLE LEAKPROOF\r\n",
                "    SET search_path = cust\r\n",
                "    SECURITY DEFINER\r\n",
                "AS $$\r\n",
                "    SELECT CONCAT_WS(' ', firstname, lastname) \r\n",
                "    FROM cust.customers c\r\n",
                "    WHERE c.customerid = id;\r\n",
                "$$;\r\n",
                "\r\n",
                "ALTER FUNCTION cust.get_cust_name(id INTEGER)\r\n",
                "    OWNER to cust_owner;"
            ],
            "metadata": {
                "azdata_cell_guid": "101464bf-0421-482f-9428-42514250c7ee",
                "tags": [],
                "language": "sql"
            },
            "outputs": [],
            "execution_count": 2
        },
        {
            "cell_type": "markdown",
            "source": [
                "---\r\n",
                "### Create report analyst role and users and revoke privileges"
            ],
            "metadata": {
                "azdata_cell_guid": "f54bb988-b6af-4212-9e5e-8e4c1f153dba"
            }
        },
        {
            "cell_type": "code",
            "source": [
                "CREATE GROUP report_analysts;\r\n",
                "CREATE USER Lindsay IN GROUP report_analysts PASSWORD 'p455w0rd';\r\n",
                "GRANT USAGE ON SCHEMA cust TO report_analysts;\r\n",
                "\r\n",
                "REVOKE SELECT, INSERT, UPDATE, DELETE \r\n",
                "    ON ALL TABLES IN SCHEMA cust FROM report_analysts;\r\n",
                "GRANT EXECUTE ON ALL FUNCTIONS IN SCHEMA cust TO report_analysts;"
            ],
            "metadata": {
                "azdata_cell_guid": "543e4393-d5c1-481a-b350-121eaaf099fa",
                "tags": [],
                "language": "sql"
            },
            "outputs": [],
            "execution_count": 3
        },
        {
            "cell_type": "markdown",
            "source": [
                "---\r\n",
                "### Clean Up"
            ],
            "metadata": {
                "azdata_cell_guid": "29c1ccbd-2eda-4a8a-bcaf-097297d361f3"
            }
        },
        {
            "cell_type": "code",
            "source": [
                "DROP FUNCTION IF EXISTS cust.get_cust_name(INT);\r\n",
                "DROP TABLE IF EXISTS cust.customers;\r\n",
                "DROP SCHEMA IF EXISTS cust;\r\n",
                "DROP ROLE IF EXISTS cust_owner;\r\n",
                "DROP USER IF EXISTS Lindsay;\r\n",
                "DROP GROUP IF EXISTS report_analysts;"
            ],
            "metadata": {
                "azdata_cell_guid": "064e6514-8a37-4ae9-966f-ba4a97555c02",
                "tags": [],
                "language": "sql"
            },
            "outputs": [],
            "execution_count": 1
        }
    ]
}