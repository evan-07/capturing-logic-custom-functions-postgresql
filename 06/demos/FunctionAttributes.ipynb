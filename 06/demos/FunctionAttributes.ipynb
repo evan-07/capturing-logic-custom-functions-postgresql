{
    "metadata": {
        "kernelspec": {
            "name": "SQL",
            "display_name": "SQL",
            "language": "sql"
        },
        "language_info": {
            "name": "sql",
            "version": ""
        }
    },
    "nbformat_minor": 2,
    "nbformat": 4,
    "cells": [
        {
            "cell_type": "markdown",
            "source": [
                "## Function Attributes\n",
                "---\n",
                "### Volatility -- IMMUTABLE"
            ],
            "metadata": {
                "azdata_cell_guid": "2f4c76a5-0924-47d7-b2a1-f6e478be0111"
            }
        },
        {
            "cell_type": "code",
            "source": [
                "CREATE OR REPLACE FUNCTION phi()\n",
                "    RETURNS DOUBLE PRECISION\n",
                "LANGUAGE SQL\n",
                "IMMUTABLE\n",
                "AS $$\n",
                "    SELECT (1 + |/ 5) /2;\n",
                "$$;\n",
                "\n",
                "SELECT phi();"
            ],
            "metadata": {
                "azdata_cell_guid": "e785da55-2688-40f8-9f2b-6610d5ee249c",
                "tags": [
                    "hide_input"
                ]
            },
            "outputs": [],
            "execution_count": 14
        },
        {
            "cell_type": "markdown",
            "source": [
                "---\r\n",
                "### Volatility -- STABLE"
            ],
            "metadata": {
                "azdata_cell_guid": "aa1ef05b-14bc-4bd2-9af7-47918d2d163a"
            }
        },
        {
            "cell_type": "code",
            "source": [
                "CREATE OR REPLACE FUNCTION get_cust_name(id INTEGER) \r\n",
                "    RETURNS VARCHAR\r\n",
                "LANGUAGE SQL\r\n",
                "STABLE\r\n",
                "AS $$\r\n",
                "    SELECT CONCAT_WS(' ', firstname, lastname) \r\n",
                "    FROM customers\r\n",
                "    WHERE customerid = id;\r\n",
                "$$;\r\n",
                "\r\n",
                "SELECT get_cust_name(42);\r\n",
                "UPDATE customers \r\n",
                "SET firstname = 'No Longer', lastname = 'Crazy'\r\n",
                "WHERE customerid = 42;\r\n",
                "SELECT get_cust_name(42);"
            ],
            "metadata": {
                "azdata_cell_guid": "52f3b705-241a-4b1f-af17-3ecc5e38eb5d",
                "tags": [
                    "hide_input"
                ]
            },
            "outputs": [],
            "execution_count": 15
        },
        {
            "cell_type": "markdown",
            "source": [
                "---\r\n",
                "### Volatility -- VOLATILE"
            ],
            "metadata": {
                "azdata_cell_guid": "4cbdc299-6979-4c27-a0b3-2197a7d93c43"
            }
        },
        {
            "cell_type": "code",
            "source": [
                "CREATE OR REPLACE FUNCTION get_random_int()\r\n",
                "    RETURNS INTEGER\r\n",
                "LANGUAGE SQL\r\n",
                "VOLATILE\r\n",
                "AS $$\r\n",
                "    SELECT (random()*10)::INTEGER;\r\n",
                "$$;\r\n",
                "\r\n",
                "SELECT get_random_int();"
            ],
            "metadata": {
                "azdata_cell_guid": "fcf8192c-6ac9-413e-b443-929c43dedd07",
                "tags": [
                    "hide_input"
                ]
            },
            "outputs": [],
            "execution_count": 16
        },
        {
            "cell_type": "markdown",
            "source": [
                "---\r\n",
                "### Volatility -- [NOT] LEAKPROOF"
            ],
            "metadata": {
                "azdata_cell_guid": "743b8479-be70-40ea-9f8e-816e65b1ca08"
            }
        },
        {
            "cell_type": "code",
            "source": [
                "CREATE OR REPLACE FUNCTION sometimes_error(flag BOOLEAN) \r\n",
                "    RETURNS VOID\r\n",
                "LANGUAGE plpgsql\r\n",
                "NOT LEAKPROOF\r\n",
                "AS $$\r\n",
                "    BEGIN\r\n",
                "        IF flag THEN\r\n",
                "            RAISE NOTICE 'Parameter is true';\r\n",
                "        END IF;\r\n",
                "    END;\r\n",
                "$$;\r\n",
                "\r\n",
                "SELECT sometimes_error(TRUE);   \r\n",
                "SELECT sometimes_error(FALSE);  "
            ],
            "metadata": {
                "azdata_cell_guid": "70935f35-2a2e-4c86-9a67-d6fbb939d7c7",
                "tags": [
                    "hide_input"
                ]
            },
            "outputs": [],
            "execution_count": 18
        },
        {
            "cell_type": "markdown",
            "source": [
                "---\r\n",
                "### Priviledges -- SECURITY DEFINER|INVOKER"
            ],
            "metadata": {
                "azdata_cell_guid": "01317153-abbf-4023-a08a-a6a28f70202a"
            }
        },
        {
            "cell_type": "code",
            "source": [
                "CREATE OR REPLACE FUNCTION get_customer(id INT)\r\n",
                "    RETURNS SETOF customers\r\n",
                "LANGUAGE SQL\r\n",
                "SECURITY DEFINER\r\n",
                "AS $$\r\n",
                "    SELECT * \r\n",
                "    FROM customers\r\n",
                "    WHERE customerid = id;\r\n",
                "$$;\r\n",
                "\r\n",
                "SELECT get_customer(42);\r\n",
                "\r\n",
                "CREATE USER lucas PASSWORD 'p455w0rd';\r\n",
                "REVOKE SELECT ON customers FROM lucas;\r\n",
                "GRANT EXECUTE ON FUNCTION get_customer(INT) TO LUCAS;"
            ],
            "metadata": {
                "azdata_cell_guid": "8b580e6d-2ded-4673-ae40-4574d659a664",
                "tags": [
                    "hide_input"
                ]
            },
            "outputs": [],
            "execution_count": 2
        },
        {
            "cell_type": "markdown",
            "source": [
                "---\r\n",
                "### Handling null input"
            ],
            "metadata": {
                "azdata_cell_guid": "53b8ecc3-a807-4d29-a972-913fc76ec946"
            }
        },
        {
            "cell_type": "code",
            "source": [
                "CREATE OR REPLACE FUNCTION nulls_ok(n INT) RETURNS INT\r\n",
                "LANGUAGE SQL \r\n",
                "CALLED ON NULL INPUT\r\n",
                "AS $$\r\n",
                "    SELECT CASE WHEN n IS NOT NULL THEN n ELSE -42 END;\r\n",
                "$$;    \r\n",
                "\r\n",
                "SELECT nulls_ok(42);\r\n",
                "SELECT nulls_ok(NULL);"
            ],
            "metadata": {
                "azdata_cell_guid": "7171377b-ddb7-4383-a26a-a4aff6697fda",
                "tags": [
                    "hide_input"
                ]
            },
            "outputs": [],
            "execution_count": 20
        },
        {
            "cell_type": "code",
            "source": [
                "CREATE OR REPLACE FUNCTION no_nulls (n INT) RETURNS INT\r\n",
                "LANGUAGE SQL \r\n",
                "RETURNS NULL ON NULL INPUT\r\n",
                "AS $$\r\n",
                "    SELECT CASE WHEN n IS NOT NULL THEN n ELSE -42 END;\r\n",
                "$$;    \r\n",
                "\r\n",
                "SELECT no_nulls(42);\r\n",
                "SELECT no_nulls(NULL);"
            ],
            "metadata": {
                "azdata_cell_guid": "35eaef9e-7e42-4702-aa23-da7955afaab1",
                "tags": [
                    "hide_input"
                ]
            },
            "outputs": [],
            "execution_count": 21
        },
        {
            "cell_type": "markdown",
            "source": [
                "---\r\n",
                "### SET search_path"
            ],
            "metadata": {
                "azdata_cell_guid": "aee4d25a-8b84-435b-9c42-dd2c2a5ba328"
            }
        },
        {
            "cell_type": "code",
            "source": [
                "CREATE OR REPLACE FUNCTION restrict_path()\r\n",
                "    RETURNS DOUBLE PRECISION\r\n",
                "LANGUAGE SQL\r\n",
                "SET search_path = pg_temp\r\n",
                "AS 'SELECT phi()';\r\n",
                "\r\n",
                "SELECT restrict_path();"
            ],
            "metadata": {
                "azdata_cell_guid": "62d8b908-c8d9-4b01-b190-16a69b7082fa",
                "tags": [
                    "hide_input"
                ]
            },
            "outputs": [],
            "execution_count": 24
        },
        {
            "cell_type": "markdown",
            "source": [
                "---\r\n",
                "### Clean up"
            ],
            "metadata": {
                "azdata_cell_guid": "5f7eb8c9-83a0-4c65-be90-61ecf47f34f4"
            }
        },
        {
            "cell_type": "code",
            "source": [
                "DROP FUNCTION IF EXISTS get_cust_name(id INTEGER);\r\n",
                "DROP FUNCTION IF EXISTS get_random_int();\r\n",
                "DROP FUNCTION IF EXISTS sometimes_error(flag BOOLEAN);\r\n",
                "DROP FUNCTION IF EXISTS get_customer(id INTEGER);\r\n",
                "DROP USER IF EXISTS lucas;\r\n",
                "DROP FUNCTION IF EXISTS nulls_ok(n INT);\r\n",
                "DROP FUNCTION IF EXISTS no_nulls(n INT);"
            ],
            "metadata": {
                "azdata_cell_guid": "06b3f168-ba52-44d2-a08b-f2cf3dc40470",
                "tags": [
                    "hide_input"
                ]
            },
            "outputs": [],
            "execution_count": 1
        }
    ]
}